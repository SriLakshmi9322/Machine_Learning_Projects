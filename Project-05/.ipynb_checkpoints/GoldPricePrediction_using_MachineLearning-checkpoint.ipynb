{
 "cells": [
  {
   "cell_type": "markdown",
   "id": "01c8821a",
   "metadata": {},
   "source": [
    "# Gold Price Prediction\n",
    "\n",
    "- The Gold Price Prediction project involves building a machine learning model to forecast the price of GOLD based on historical data and various influencing factors. Gold prices are influenced by a range of Economic, Geopolitical, and Market Factors, making it an interesting and challenging problem for Prediction.\n",
    "- The goal is to build a predictive model that can accurately forecast future gold prices based on historical and other relevant economic data. This model can help investors and financial analysts make informed decisions by anticipating price trends."
   ]
  },
  {
   "cell_type": "code",
   "execution_count": 1,
   "id": "7a1bc79f",
   "metadata": {},
   "outputs": [],
   "source": [
    "import warnings\n",
    "\n",
    "warnings.filterwarnings('ignore')"
   ]
  },
  {
   "cell_type": "code",
   "execution_count": 2,
   "id": "70327d16",
   "metadata": {},
   "outputs": [],
   "source": [
    "import pandas as pd\n",
    "import numpy as np\n",
    "import matplotlib.pyplot as plt\n",
    "import seaborn as sns\n",
    "from sklearn.preprocessing import LabelEncoder\n",
    "from sklearn.model_selection import train_test_split\n",
    "from sklearn.ensemble import RandomForestRegressor\n",
    "from sklearn.metrics import r2_score"
   ]
  },
  {
   "cell_type": "code",
   "execution_count": 3,
   "id": "d4889d1e",
   "metadata": {},
   "outputs": [],
   "source": [
    "gold_data = pd.read_csv('gold_price_data.csv')"
   ]
  },
  {
   "cell_type": "markdown",
   "id": "b3d812b6",
   "metadata": {},
   "source": [
    "## About Data\n",
    "\n",
    "1. **'Date'** - mm/dd/yyyy\n",
    "2. **'SPX'** - is a free-float weighted measurement stock market index of the 500 largest companies listed on stock exchanges in the United States.\n",
    "3. **'GLD'** - Gold Price.\n",
    "4. **'USO'** - United States Oil Fund.\n",
    "5. **'SLV'** - Silver Price.\n",
    "6. **'EUR/USD'** - Currency pair quotation of the Euro against the US."
   ]
  },
  {
   "cell_type": "code",
   "execution_count": 4,
   "id": "a5c7b30e",
   "metadata": {},
   "outputs": [
    {
     "data": {
      "text/html": [
       "<div>\n",
       "<style scoped>\n",
       "    .dataframe tbody tr th:only-of-type {\n",
       "        vertical-align: middle;\n",
       "    }\n",
       "\n",
       "    .dataframe tbody tr th {\n",
       "        vertical-align: top;\n",
       "    }\n",
       "\n",
       "    .dataframe thead th {\n",
       "        text-align: right;\n",
       "    }\n",
       "</style>\n",
       "<table border=\"1\" class=\"dataframe\">\n",
       "  <thead>\n",
       "    <tr style=\"text-align: right;\">\n",
       "      <th></th>\n",
       "      <th>Date</th>\n",
       "      <th>SPX</th>\n",
       "      <th>GLD</th>\n",
       "      <th>USO</th>\n",
       "      <th>SLV</th>\n",
       "      <th>EUR/USD</th>\n",
       "    </tr>\n",
       "  </thead>\n",
       "  <tbody>\n",
       "    <tr>\n",
       "      <th>0</th>\n",
       "      <td>1/2/2008</td>\n",
       "      <td>1447.160034</td>\n",
       "      <td>84.860001</td>\n",
       "      <td>78.470001</td>\n",
       "      <td>15.180</td>\n",
       "      <td>1.471692</td>\n",
       "    </tr>\n",
       "    <tr>\n",
       "      <th>1</th>\n",
       "      <td>1/3/2008</td>\n",
       "      <td>1447.160034</td>\n",
       "      <td>85.570000</td>\n",
       "      <td>78.370003</td>\n",
       "      <td>15.285</td>\n",
       "      <td>1.474491</td>\n",
       "    </tr>\n",
       "    <tr>\n",
       "      <th>2</th>\n",
       "      <td>1/4/2008</td>\n",
       "      <td>1411.630005</td>\n",
       "      <td>85.129997</td>\n",
       "      <td>77.309998</td>\n",
       "      <td>15.167</td>\n",
       "      <td>1.475492</td>\n",
       "    </tr>\n",
       "    <tr>\n",
       "      <th>3</th>\n",
       "      <td>1/7/2008</td>\n",
       "      <td>1416.180054</td>\n",
       "      <td>84.769997</td>\n",
       "      <td>75.500000</td>\n",
       "      <td>15.053</td>\n",
       "      <td>1.468299</td>\n",
       "    </tr>\n",
       "    <tr>\n",
       "      <th>4</th>\n",
       "      <td>1/8/2008</td>\n",
       "      <td>1390.189941</td>\n",
       "      <td>86.779999</td>\n",
       "      <td>76.059998</td>\n",
       "      <td>15.590</td>\n",
       "      <td>1.557099</td>\n",
       "    </tr>\n",
       "  </tbody>\n",
       "</table>\n",
       "</div>"
      ],
      "text/plain": [
       "       Date          SPX        GLD        USO     SLV   EUR/USD\n",
       "0  1/2/2008  1447.160034  84.860001  78.470001  15.180  1.471692\n",
       "1  1/3/2008  1447.160034  85.570000  78.370003  15.285  1.474491\n",
       "2  1/4/2008  1411.630005  85.129997  77.309998  15.167  1.475492\n",
       "3  1/7/2008  1416.180054  84.769997  75.500000  15.053  1.468299\n",
       "4  1/8/2008  1390.189941  86.779999  76.059998  15.590  1.557099"
      ]
     },
     "execution_count": 4,
     "metadata": {},
     "output_type": "execute_result"
    }
   ],
   "source": [
    "gold_data.head()"
   ]
  },
  {
   "cell_type": "markdown",
   "id": "a19ea00f",
   "metadata": {},
   "source": [
    "## Data Preprocessing\n",
    "\n",
    "- Getting some Basic information about the data"
   ]
  },
  {
   "cell_type": "code",
   "execution_count": 5,
   "id": "108698cb",
   "metadata": {},
   "outputs": [
    {
     "data": {
      "text/plain": [
       "(2290, 6)"
      ]
     },
     "execution_count": 5,
     "metadata": {},
     "output_type": "execute_result"
    }
   ],
   "source": [
    "# Xhecking for the Shape of the Data\n",
    "\n",
    "gold_data.shape"
   ]
  },
  {
   "cell_type": "code",
   "execution_count": 6,
   "id": "4a0c1e7c",
   "metadata": {},
   "outputs": [
    {
     "name": "stdout",
     "output_type": "stream",
     "text": [
      "<class 'pandas.core.frame.DataFrame'>\n",
      "RangeIndex: 2290 entries, 0 to 2289\n",
      "Data columns (total 6 columns):\n",
      " #   Column   Non-Null Count  Dtype  \n",
      "---  ------   --------------  -----  \n",
      " 0   Date     2290 non-null   object \n",
      " 1   SPX      2290 non-null   float64\n",
      " 2   GLD      2290 non-null   float64\n",
      " 3   USO      2290 non-null   float64\n",
      " 4   SLV      2290 non-null   float64\n",
      " 5   EUR/USD  2290 non-null   float64\n",
      "dtypes: float64(5), object(1)\n",
      "memory usage: 107.5+ KB\n"
     ]
    }
   ],
   "source": [
    "# Information related to the Dataset\n",
    "\n",
    "gold_data.info()"
   ]
  },
  {
   "cell_type": "code",
   "execution_count": 7,
   "id": "d90b1224",
   "metadata": {},
   "outputs": [
    {
     "data": {
      "text/plain": [
       "Date       0\n",
       "SPX        0\n",
       "GLD        0\n",
       "USO        0\n",
       "SLV        0\n",
       "EUR/USD    0\n",
       "dtype: int64"
      ]
     },
     "execution_count": 7,
     "metadata": {},
     "output_type": "execute_result"
    }
   ],
   "source": [
    "# Checking the number of missing values\n",
    "\n",
    "gold_data.isnull().sum()"
   ]
  },
  {
   "cell_type": "code",
   "execution_count": 8,
   "id": "8de26664",
   "metadata": {},
   "outputs": [
    {
     "data": {
      "text/html": [
       "<div>\n",
       "<style scoped>\n",
       "    .dataframe tbody tr th:only-of-type {\n",
       "        vertical-align: middle;\n",
       "    }\n",
       "\n",
       "    .dataframe tbody tr th {\n",
       "        vertical-align: top;\n",
       "    }\n",
       "\n",
       "    .dataframe thead th {\n",
       "        text-align: right;\n",
       "    }\n",
       "</style>\n",
       "<table border=\"1\" class=\"dataframe\">\n",
       "  <thead>\n",
       "    <tr style=\"text-align: right;\">\n",
       "      <th></th>\n",
       "      <th>SPX</th>\n",
       "      <th>GLD</th>\n",
       "      <th>USO</th>\n",
       "      <th>SLV</th>\n",
       "      <th>EUR/USD</th>\n",
       "    </tr>\n",
       "  </thead>\n",
       "  <tbody>\n",
       "    <tr>\n",
       "      <th>count</th>\n",
       "      <td>2290.000000</td>\n",
       "      <td>2290.000000</td>\n",
       "      <td>2290.000000</td>\n",
       "      <td>2290.000000</td>\n",
       "      <td>2290.000000</td>\n",
       "    </tr>\n",
       "    <tr>\n",
       "      <th>mean</th>\n",
       "      <td>1654.315776</td>\n",
       "      <td>122.732875</td>\n",
       "      <td>31.842221</td>\n",
       "      <td>20.084997</td>\n",
       "      <td>1.283653</td>\n",
       "    </tr>\n",
       "    <tr>\n",
       "      <th>std</th>\n",
       "      <td>519.111540</td>\n",
       "      <td>23.283346</td>\n",
       "      <td>19.523517</td>\n",
       "      <td>7.092566</td>\n",
       "      <td>0.131547</td>\n",
       "    </tr>\n",
       "    <tr>\n",
       "      <th>min</th>\n",
       "      <td>676.530029</td>\n",
       "      <td>70.000000</td>\n",
       "      <td>7.960000</td>\n",
       "      <td>8.850000</td>\n",
       "      <td>1.039047</td>\n",
       "    </tr>\n",
       "    <tr>\n",
       "      <th>25%</th>\n",
       "      <td>1239.874969</td>\n",
       "      <td>109.725000</td>\n",
       "      <td>14.380000</td>\n",
       "      <td>15.570000</td>\n",
       "      <td>1.171313</td>\n",
       "    </tr>\n",
       "    <tr>\n",
       "      <th>50%</th>\n",
       "      <td>1551.434998</td>\n",
       "      <td>120.580002</td>\n",
       "      <td>33.869999</td>\n",
       "      <td>17.268500</td>\n",
       "      <td>1.303297</td>\n",
       "    </tr>\n",
       "    <tr>\n",
       "      <th>75%</th>\n",
       "      <td>2073.010070</td>\n",
       "      <td>132.840004</td>\n",
       "      <td>37.827501</td>\n",
       "      <td>22.882500</td>\n",
       "      <td>1.369971</td>\n",
       "    </tr>\n",
       "    <tr>\n",
       "      <th>max</th>\n",
       "      <td>2872.870117</td>\n",
       "      <td>184.589996</td>\n",
       "      <td>117.480003</td>\n",
       "      <td>47.259998</td>\n",
       "      <td>1.598798</td>\n",
       "    </tr>\n",
       "  </tbody>\n",
       "</table>\n",
       "</div>"
      ],
      "text/plain": [
       "               SPX          GLD          USO          SLV      EUR/USD\n",
       "count  2290.000000  2290.000000  2290.000000  2290.000000  2290.000000\n",
       "mean   1654.315776   122.732875    31.842221    20.084997     1.283653\n",
       "std     519.111540    23.283346    19.523517     7.092566     0.131547\n",
       "min     676.530029    70.000000     7.960000     8.850000     1.039047\n",
       "25%    1239.874969   109.725000    14.380000    15.570000     1.171313\n",
       "50%    1551.434998   120.580002    33.869999    17.268500     1.303297\n",
       "75%    2073.010070   132.840004    37.827501    22.882500     1.369971\n",
       "max    2872.870117   184.589996   117.480003    47.259998     1.598798"
      ]
     },
     "execution_count": 8,
     "metadata": {},
     "output_type": "execute_result"
    }
   ],
   "source": [
    "# Getting the Statistical measures of the data\n",
    "\n",
    "gold_data.describe()"
   ]
  },
  {
   "cell_type": "code",
   "execution_count": 9,
   "id": "1dd96566",
   "metadata": {},
   "outputs": [
    {
     "data": {
      "text/html": [
       "<div>\n",
       "<style scoped>\n",
       "    .dataframe tbody tr th:only-of-type {\n",
       "        vertical-align: middle;\n",
       "    }\n",
       "\n",
       "    .dataframe tbody tr th {\n",
       "        vertical-align: top;\n",
       "    }\n",
       "\n",
       "    .dataframe thead th {\n",
       "        text-align: right;\n",
       "    }\n",
       "</style>\n",
       "<table border=\"1\" class=\"dataframe\">\n",
       "  <thead>\n",
       "    <tr style=\"text-align: right;\">\n",
       "      <th></th>\n",
       "      <th>count</th>\n",
       "      <th>mean</th>\n",
       "      <th>std</th>\n",
       "      <th>min</th>\n",
       "      <th>25%</th>\n",
       "      <th>50%</th>\n",
       "      <th>75%</th>\n",
       "      <th>max</th>\n",
       "    </tr>\n",
       "  </thead>\n",
       "  <tbody>\n",
       "    <tr>\n",
       "      <th>SPX</th>\n",
       "      <td>2290.0</td>\n",
       "      <td>1654.315776</td>\n",
       "      <td>519.111540</td>\n",
       "      <td>676.530029</td>\n",
       "      <td>1239.874969</td>\n",
       "      <td>1551.434998</td>\n",
       "      <td>2073.010070</td>\n",
       "      <td>2872.870117</td>\n",
       "    </tr>\n",
       "    <tr>\n",
       "      <th>GLD</th>\n",
       "      <td>2290.0</td>\n",
       "      <td>122.732875</td>\n",
       "      <td>23.283346</td>\n",
       "      <td>70.000000</td>\n",
       "      <td>109.725000</td>\n",
       "      <td>120.580002</td>\n",
       "      <td>132.840004</td>\n",
       "      <td>184.589996</td>\n",
       "    </tr>\n",
       "    <tr>\n",
       "      <th>USO</th>\n",
       "      <td>2290.0</td>\n",
       "      <td>31.842221</td>\n",
       "      <td>19.523517</td>\n",
       "      <td>7.960000</td>\n",
       "      <td>14.380000</td>\n",
       "      <td>33.869999</td>\n",
       "      <td>37.827501</td>\n",
       "      <td>117.480003</td>\n",
       "    </tr>\n",
       "    <tr>\n",
       "      <th>SLV</th>\n",
       "      <td>2290.0</td>\n",
       "      <td>20.084997</td>\n",
       "      <td>7.092566</td>\n",
       "      <td>8.850000</td>\n",
       "      <td>15.570000</td>\n",
       "      <td>17.268500</td>\n",
       "      <td>22.882500</td>\n",
       "      <td>47.259998</td>\n",
       "    </tr>\n",
       "    <tr>\n",
       "      <th>EUR/USD</th>\n",
       "      <td>2290.0</td>\n",
       "      <td>1.283653</td>\n",
       "      <td>0.131547</td>\n",
       "      <td>1.039047</td>\n",
       "      <td>1.171313</td>\n",
       "      <td>1.303297</td>\n",
       "      <td>1.369971</td>\n",
       "      <td>1.598798</td>\n",
       "    </tr>\n",
       "  </tbody>\n",
       "</table>\n",
       "</div>"
      ],
      "text/plain": [
       "          count         mean         std         min          25%  \\\n",
       "SPX      2290.0  1654.315776  519.111540  676.530029  1239.874969   \n",
       "GLD      2290.0   122.732875   23.283346   70.000000   109.725000   \n",
       "USO      2290.0    31.842221   19.523517    7.960000    14.380000   \n",
       "SLV      2290.0    20.084997    7.092566    8.850000    15.570000   \n",
       "EUR/USD  2290.0     1.283653    0.131547    1.039047     1.171313   \n",
       "\n",
       "                 50%          75%          max  \n",
       "SPX      1551.434998  2073.010070  2872.870117  \n",
       "GLD       120.580002   132.840004   184.589996  \n",
       "USO        33.869999    37.827501   117.480003  \n",
       "SLV        17.268500    22.882500    47.259998  \n",
       "EUR/USD     1.303297     1.369971     1.598798  "
      ]
     },
     "execution_count": 9,
     "metadata": {},
     "output_type": "execute_result"
    }
   ],
   "source": [
    "# Statistical Summary of numerical columns\n",
    "\n",
    "gold_data.describe().T"
   ]
  },
  {
   "cell_type": "code",
   "execution_count": 10,
   "id": "c62abfc0",
   "metadata": {},
   "outputs": [
    {
     "data": {
      "text/plain": [
       "0"
      ]
     },
     "execution_count": 10,
     "metadata": {},
     "output_type": "execute_result"
    }
   ],
   "source": [
    "# Checking for the Duplicated rows\n",
    "\n",
    "gold_data.duplicated().sum()"
   ]
  },
  {
   "cell_type": "code",
   "execution_count": 11,
   "id": "17fe2d11",
   "metadata": {},
   "outputs": [],
   "source": [
    "# Convert the object column to integers\n",
    "\n",
    "# Initiate the LabelEncoder\n",
    "label_encoder = LabelEncoder()\n",
    "\n",
    "# Convert a categorical column to integers\n",
    "gold_data['Date'] = label_encoder.fit_transform(gold_data['Date'])"
   ]
  },
  {
   "cell_type": "code",
   "execution_count": 12,
   "id": "373f20da",
   "metadata": {},
   "outputs": [
    {
     "name": "stdout",
     "output_type": "stream",
     "text": [
      "<class 'pandas.core.frame.DataFrame'>\n",
      "RangeIndex: 2290 entries, 0 to 2289\n",
      "Data columns (total 6 columns):\n",
      " #   Column   Non-Null Count  Dtype  \n",
      "---  ------   --------------  -----  \n",
      " 0   Date     2290 non-null   int32  \n",
      " 1   SPX      2290 non-null   float64\n",
      " 2   GLD      2290 non-null   float64\n",
      " 3   USO      2290 non-null   float64\n",
      " 4   SLV      2290 non-null   float64\n",
      " 5   EUR/USD  2290 non-null   float64\n",
      "dtypes: float64(5), int32(1)\n",
      "memory usage: 98.5 KB\n"
     ]
    }
   ],
   "source": [
    "# Recheck whether columns are in numerical type\n",
    "\n",
    "gold_data.info()"
   ]
  },
  {
   "cell_type": "markdown",
   "id": "673c480b",
   "metadata": {},
   "source": [
    "## Correlation"
   ]
  },
  {
   "cell_type": "code",
   "execution_count": 13,
   "id": "a39ba490",
   "metadata": {},
   "outputs": [],
   "source": [
    "# Checking for the Correlation among the features in the Dataset\n",
    "\n",
    "correlation = gold_data.corr()"
   ]
  },
  {
   "cell_type": "code",
   "execution_count": 14,
   "id": "1ecc53d8",
   "metadata": {},
   "outputs": [
    {
     "data": {
      "text/plain": [
       "<AxesSubplot:>"
      ]
     },
     "execution_count": 14,
     "metadata": {},
     "output_type": "execute_result"
    },
    {
     "data": {
      "image/png": "[encoded data removed]",
      "text/plain": [
       "<Figure size 576x576 with 2 Axes>"
      ]
     },
     "metadata": {
      "needs_background": "light"
     },
     "output_type": "display_data"
    }
   ],
   "source": [
    "plt.figure(figsize=(8, 8))\n",
    "sns.heatmap(correlation, cbar=True, square=True, fmt='.1f', annot=True, annot_kws={'size': 8}, cmap='Blues')"
   ]
  },
  {
   "cell_type": "code",
   "execution_count": 15,
   "id": "7e718cff",
   "metadata": {},
   "outputs": [
    {
     "name": "stdout",
     "output_type": "stream",
     "text": [
      "Date       0.025020\n",
      "SPX        0.049345\n",
      "GLD        1.000000\n",
      "USO       -0.186360\n",
      "SLV        0.866632\n",
      "EUR/USD   -0.024375\n",
      "Name: GLD, dtype: float64\n"
     ]
    }
   ],
   "source": [
    "print(correlation['GLD'])"
   ]
  },
  {
   "cell_type": "code",
   "execution_count": 16,
   "id": "87c21296",
   "metadata": {},
   "outputs": [
    {
     "data": {
      "text/plain": [
       "<AxesSubplot:>"
      ]
     },
     "execution_count": 16,
     "metadata": {},
     "output_type": "execute_result"
    },
    {
     "data": {
      "image/png": "[encoded data removed]",
      "text/plain": [
       "<Figure size 1440x1080 with 2 Axes>"
      ]
     },
     "metadata": {
      "needs_background": "light"
     },
     "output_type": "display_data"
    }
   ],
   "source": [
    "plt.figure(figsize=(20, 15))\n",
    "sns.heatmap(correlation[['GLD']], annot=True)"
   ]
  },
  {
   "cell_type": "markdown",
   "id": "b7105728",
   "metadata": {},
   "source": [
    "### Checking the distribution of GLD price"
   ]
  },
  {
   "cell_type": "code",
   "execution_count": 17,
   "id": "6f87c1b7",
   "metadata": {},
   "outputs": [
    {
     "data": {
      "text/plain": [
       "<seaborn.axisgrid.FacetGrid at 0x264b6ab50d0>"
      ]
     },
     "execution_count": 17,
     "metadata": {},
     "output_type": "execute_result"
    },
    {
     "data": {
      "image/png": "[encoded data removed]",
      "text/plain": [
       "<Figure size 360x360 with 1 Axes>"
      ]
     },
     "metadata": {
      "needs_background": "light"
     },
     "output_type": "display_data"
    }
   ],
   "source": [
    "sns.displot(gold_data['GLD'], color='green')"
   ]
  },
  {
   "cell_type": "markdown",
   "id": "45120191",
   "metadata": {},
   "source": [
    "## Splitting the Features and Target"
   ]
  },
  {
   "cell_type": "code",
   "execution_count": 18,
   "id": "b9bc3f6b",
   "metadata": {},
   "outputs": [],
   "source": [
    "X = gold_data.drop(['Date', 'GLD'], axis=1)\n",
    "y = gold_data['GLD']"
   ]
  },
  {
   "cell_type": "code",
   "execution_count": 19,
   "id": "0da113f6",
   "metadata": {},
   "outputs": [
    {
     "name": "stdout",
     "output_type": "stream",
     "text": [
      "(2290, 4) (2290,)\n"
     ]
    }
   ],
   "source": [
    "print(X.shape, y.shape)"
   ]
  },
  {
   "cell_type": "markdown",
   "id": "3cb93085",
   "metadata": {},
   "source": [
    "## Train Test Split"
   ]
  },
  {
   "cell_type": "code",
   "execution_count": 20,
   "id": "46f8b1f3",
   "metadata": {},
   "outputs": [],
   "source": [
    "X_train, X_test, y_train, y_test = train_test_split(X, y, test_size=0.2, random_state=2)"
   ]
  },
  {
   "cell_type": "code",
   "execution_count": 21,
   "id": "121926ba",
   "metadata": {},
   "outputs": [
    {
     "name": "stdout",
     "output_type": "stream",
     "text": [
      "X_train Shape:  (1832, 4)\n",
      "X_test Shape:  (458, 4)\n",
      "y_train Shape:  (1832,)\n",
      "y_test Shape:  (458,)\n"
     ]
    }
   ],
   "source": [
    "print(\"X_train Shape: \", X_train.shape)\n",
    "print(\"X_test Shape: \", X_test.shape)\n",
    "print(\"y_train Shape: \", y_train.shape)\n",
    "print(\"y_test Shape: \", y_test.shape)"
   ]
  },
  {
   "cell_type": "markdown",
   "id": "33b49acb",
   "metadata": {},
   "source": [
    "### Model Training: Using Random Forest Regressor"
   ]
  },
  {
   "cell_type": "code",
   "execution_count": 22,
   "id": "60c4149b",
   "metadata": {},
   "outputs": [
    {
     "data": {
      "text/plain": [
       "RandomForestRegressor()"
      ]
     },
     "execution_count": 22,
     "metadata": {},
     "output_type": "execute_result"
    }
   ],
   "source": [
    "reg = RandomForestRegressor(n_estimators=100)\n",
    "reg.fit(X_train, y_train)"
   ]
  },
  {
   "cell_type": "markdown",
   "id": "1e122a4c",
   "metadata": {},
   "source": [
    "### Model Evaluation"
   ]
  },
  {
   "cell_type": "code",
   "execution_count": 23,
   "id": "33c90109",
   "metadata": {},
   "outputs": [
    {
     "data": {
      "text/plain": [
       "array([168.79399981,  81.87629989, 116.00590027, 127.8635007 ,\n",
       "       120.81660143, 154.65309769, 149.99909874, 126.06060006,\n",
       "       117.47439855, 125.9704006 , 116.84220122, 171.70520019,\n",
       "       141.02229776, 168.04639921, 115.09530036, 117.7272009 ,\n",
       "       138.9901024 , 170.46220084, 159.00130271, 160.05609981,\n",
       "       155.12079995, 125.39530033, 175.65879982, 157.29930407,\n",
       "       125.28910053,  93.63049912,  77.61830025, 120.47300003,\n",
       "       119.12499954, 167.46099914,  88.2204004 , 125.09029963,\n",
       "        91.05420082, 117.68110043, 121.10119936, 136.308801  ,\n",
       "       115.55360119, 115.16660093, 148.77699999, 107.32190084,\n",
       "       104.10620251,  87.24029794, 126.38550061, 117.90699991,\n",
       "       151.94059876, 119.44830032, 108.34659995, 107.92089779,\n",
       "        93.09910042, 127.08099778,  74.96740034, 113.59749868,\n",
       "       121.64190043, 111.29069925, 118.71639892, 120.98219944,\n",
       "       159.67300009, 166.76510112, 147.01619672,  85.76459827,\n",
       "        94.35900032,  86.88839882,  90.59460003, 119.00820081,\n",
       "       126.54440049, 127.39690006, 169.85829967, 122.30629926,\n",
       "       117.41999904,  98.21290016, 167.84840064, 143.1720989 ,\n",
       "       132.24240277, 121.14070242, 120.09659947, 119.65830048,\n",
       "       114.49270143, 118.56610058, 107.2715007 , 128.02750115,\n",
       "       113.8789999 , 107.65159969, 116.61970075, 119.5846986 ,\n",
       "        88.79310014,  88.23789867, 146.08370192, 127.0732007 ,\n",
       "       113.48210028, 109.97959827, 108.24669896,  76.68699914,\n",
       "       169.83530168, 113.94719895, 121.65699926, 128.03090207,\n",
       "       154.836798  ,  91.68789935, 136.35690069, 159.53010339,\n",
       "       125.78000081, 125.44130044, 130.77850145, 114.94620118,\n",
       "       119.87960038,  92.12599981, 110.27189911, 169.05900008,\n",
       "       155.33839936, 114.08159939, 106.64630133,  79.5353    ,\n",
       "       113.24740062, 125.79910051, 107.11959973, 119.90330087,\n",
       "       156.15240325, 159.49799903, 120.14020021, 135.30420236,\n",
       "       101.21069998, 117.58289796, 119.28800021, 112.98130052,\n",
       "       102.75699906, 160.18509832,  99.19330052, 147.03239933,\n",
       "       125.62070115, 169.89169896, 125.67619882, 127.26379773,\n",
       "       127.43850172, 113.81749924, 113.32010066, 123.86519931,\n",
       "       102.12359872,  89.28589971, 124.33799971, 101.27769963,\n",
       "       107.01259896, 113.64320075, 117.17210079,  98.87269929,\n",
       "       122.11570039, 163.80869881,  87.39819853, 106.89469967,\n",
       "       117.31430041, 127.73920132, 124.1714006 ,  80.92159882,\n",
       "       119.90480058, 158.21829819,  88.00309979, 110.48159941,\n",
       "       118.91679944, 172.25019891, 102.93949882, 105.32330055,\n",
       "       122.76230042, 158.53699763,  87.73579842,  93.22520066,\n",
       "       112.48350007, 177.11420004, 114.08980033, 119.3084    ,\n",
       "        94.84650109, 125.74750039, 166.32120083, 114.87510057,\n",
       "       116.74140151,  88.34409873, 148.60490048, 120.3515993 ,\n",
       "        89.51059979, 111.55619981, 117.44890069, 118.78210126,\n",
       "        88.24559961,  94.4647003 , 116.85800008, 118.43370178,\n",
       "       120.45650044, 126.78839827, 121.98609978, 149.46320018,\n",
       "       165.18350007, 118.47509957, 120.55820166, 150.69030102,\n",
       "       118.69459928, 172.56399953, 104.68139937, 105.05040084,\n",
       "       149.29330045, 113.57430089, 125.00630066, 146.89689896,\n",
       "       119.5901012 , 115.17810028, 112.69329976, 113.53250198,\n",
       "       139.32410101, 117.81519778, 102.89370052, 115.89130115,\n",
       "       103.39400166,  98.6816003 , 117.28720061,  90.51820022,\n",
       "        91.72030078, 153.62489923, 102.71599951, 154.82010076,\n",
       "       114.36170154, 138.78780122,  90.12209815, 115.45549935,\n",
       "       113.93669964, 123.06540043, 121.81739996, 165.07830091,\n",
       "        93.16259936, 135.1844005 , 121.34389947, 120.78060066,\n",
       "       104.82610022, 141.94390294, 122.23909964, 116.70200045,\n",
       "       113.42550088, 127.25689744, 122.6468992 , 125.75999914,\n",
       "       121.22480037,  87.0116992 , 132.78820142, 143.85880267,\n",
       "        92.65129961, 157.82879966, 158.51920247, 126.18389927,\n",
       "       164.77009889, 108.88459927, 110.44250111, 103.97179864,\n",
       "        94.3833007 , 127.71580279, 106.82350059, 160.54580018,\n",
       "       121.95230013, 131.9363997 , 130.71810121, 160.53079953,\n",
       "        90.22749865, 176.11190209, 128.1722001 , 126.97099805,\n",
       "        86.33179921, 124.28459977, 150.36509724,  89.66899992,\n",
       "       106.92939961, 108.95800001,  84.33089905, 136.03359977,\n",
       "       155.14060229, 138.17270298,  74.25839995, 151.78050154,\n",
       "       125.67699923, 126.76709989, 127.40669919, 108.66309971,\n",
       "       156.27919994, 114.68090117, 116.9108015 , 125.30709947,\n",
       "       154.13720148, 121.27780014, 156.42839862,  92.9964008 ,\n",
       "       125.48770106, 125.7836002 ,  87.96570041,  92.14179929,\n",
       "       126.29299891, 128.42460332, 113.1300008 , 117.66049755,\n",
       "       121.00630022, 127.01769795, 119.42670065, 135.92250061,\n",
       "        93.92769914, 119.75850057, 113.2232012 ,  94.12719944,\n",
       "       108.88189967,  87.0723993 , 109.29989957,  89.56849964,\n",
       "        92.60420039, 131.81620299, 162.3165998 ,  89.17909995,\n",
       "       119.56080105, 133.44420138, 123.81540045, 128.37230186,\n",
       "       101.90639837,  89.06269886, 131.46470059, 119.1248999 ,\n",
       "       108.71910009, 168.08400103, 115.24179999,  86.67879909,\n",
       "       118.8115006 ,  91.14789974, 162.0106005 , 116.7247003 ,\n",
       "       121.47140002, 160.07199749, 120.04669939, 112.80779939,\n",
       "       108.38309871, 126.7858997 ,  76.26980021, 103.07819983,\n",
       "       127.67160275, 121.80619931,  92.60639999, 132.23670047,\n",
       "       118.30070088, 115.43759971, 154.35180288, 159.10480042,\n",
       "       110.08749965, 152.38209755, 119.2244011 , 160.61670046,\n",
       "       118.45370015, 158.1541004 , 115.17639926, 116.31650028,\n",
       "       148.03849902, 114.87480075, 125.59239905, 165.21599946,\n",
       "       117.61500007, 125.1788996 , 153.04240308, 153.4450027 ,\n",
       "       132.32900003, 114.71500039, 121.24590223, 125.30380062,\n",
       "        89.81140034, 122.8656001 , 154.96800203, 111.85730065,\n",
       "       106.86439977, 161.65760123, 118.48369958, 165.80890071,\n",
       "       134.14320146, 114.72819956, 152.94049862, 168.66739976,\n",
       "       114.47940027, 114.10570125, 158.73739904,  85.44779869,\n",
       "       127.02340103, 127.86440079, 129.04829995, 124.11410045,\n",
       "       123.94390065,  90.65140078, 152.99710034,  97.19049976,\n",
       "       137.58499987,  89.0704992 , 107.57039996, 114.92760008,\n",
       "       112.77930084, 124.0098991 ,  91.38479833, 125.34520084,\n",
       "       162.3563983 , 120.17319868, 165.1955008 , 126.85769793,\n",
       "       112.21940033, 127.65379992,  95.03779896,  91.08119942,\n",
       "       102.62079911, 120.85079994,  83.49739913, 126.46320028,\n",
       "       159.82930504, 117.30960098, 118.29599965, 119.93299985,\n",
       "       122.71929965, 120.15060139, 121.59109976, 118.14710051,\n",
       "       106.9836998 , 148.19059991, 125.90369863, 115.78050075,\n",
       "        73.76710031, 127.81670119, 154.89850108, 123.01120002,\n",
       "       125.6026004 ,  88.87569993, 103.56429887, 124.69800061,\n",
       "       120.11800015,  73.39990073, 151.4850996 , 121.20420042,\n",
       "       104.73289953,  86.59229755, 115.12119963, 172.20859886,\n",
       "       119.60350022, 160.50269752, 113.19819949, 120.49880014,\n",
       "       118.66310109,  95.9436999 , 119.0752001 , 126.09680039,\n",
       "       118.48739946,  96.16980053, 153.97820154, 122.06010037,\n",
       "       147.14950035, 159.24920246, 113.84490059, 122.67619905,\n",
       "       148.96939824, 126.85110028, 165.90460056, 136.06799993,\n",
       "       120.11759988, 168.07759866, 108.40429899, 121.80469875,\n",
       "       138.42010139, 106.10659896])"
      ]
     },
     "execution_count": 23,
     "metadata": {},
     "output_type": "execute_result"
    }
   ],
   "source": [
    "y_pred = reg.predict(X_test)\n",
    "y_pred"
   ]
  },
  {
   "cell_type": "code",
   "execution_count": 24,
   "id": "76b843bc",
   "metadata": {},
   "outputs": [
    {
     "name": "stdout",
     "output_type": "stream",
     "text": [
      "R^2 Score:  0.9899623558749157\n"
     ]
    }
   ],
   "source": [
    "r2 = r2_score(y_test, y_pred)\n",
    "print(\"R^2 Score: \", r2)"
   ]
  },
  {
   "cell_type": "code",
   "execution_count": 25,
   "id": "d4239c58",
   "metadata": {},
   "outputs": [],
   "source": [
    "# Compare Actual and Predicted Values\n",
    "\n",
    "y_test = list(y_test)"
   ]
  },
  {
   "cell_type": "code",
   "execution_count": 26,
   "id": "a943ce4a",
   "metadata": {},
   "outputs": [
    {
     "data": {
      "image/png": "[encoded data removed]",
      "text/plain": [
       "<Figure size 432x288 with 1 Axes>"
      ]
     },
     "metadata": {
      "needs_background": "light"
     },
     "output_type": "display_data"
    }
   ],
   "source": [
    "plt.plot(y_test, color='blue', label=\"Actual Values\")\n",
    "plt.title(\"Actual Values\")\n",
    "plt.xlabel(\"Number of Values\")\n",
    "plt.ylabel(\"GLD Prices\")\n",
    "plt.legend()\n",
    "plt.show()"
   ]
  },
  {
   "cell_type": "code",
   "execution_count": 27,
   "id": "57bf3638",
   "metadata": {},
   "outputs": [
    {
     "data": {
      "image/png": "[encoded data removed]",
      "text/plain": [
       "<Figure size 432x288 with 1 Axes>"
      ]
     },
     "metadata": {
      "needs_background": "light"
     },
     "output_type": "display_data"
    }
   ],
   "source": [
    "plt.plot(y_test, color='blue', label=\"Actual Values\")\n",
    "plt.plot(y_pred, color='green', label=\"Predicted Values\")\n",
    "plt.title(\"Actual Values vs Predicted Values\")\n",
    "plt.xlabel(\"Number of Values\")\n",
    "plt.ylabel(\"GLD Prices\")\n",
    "plt.legend()\n",
    "plt.show()"
   ]
  },
  {
   "cell_type": "code",
   "execution_count": 28,
   "id": "870ca53e",
   "metadata": {},
   "outputs": [
    {
     "name": "stdout",
     "output_type": "stream",
     "text": [
      "Training Accuracy:  0.9985553601904255\n",
      "Testing Accuracy:  0.9899623558749157\n"
     ]
    }
   ],
   "source": [
    "y_pred = reg.predict(X_test)\n",
    "\n",
    "# Testing and Training Accuracy\n",
    "TestingScore = reg.score(X_test, y_test)\n",
    "TrainingScore = reg.score(X_train, y_train)\n",
    "\n",
    "print(\"Training Accuracy: \", TrainingScore)\n",
    "print(\"Testing Accuracy: \", TestingScore)"
   ]
  },
  {
   "cell_type": "code",
   "execution_count": 29,
   "id": "942f5a20",
   "metadata": {},
   "outputs": [],
   "source": [
    "difference = np.abs(TestingScore - TrainingScore)\n",
    "\n",
    "if difference > 0.05:\n",
    "    print(\"There is Possibility of Underfitting/Overfitting\")"
   ]
  },
  {
   "cell_type": "markdown",
   "id": "fcce739f",
   "metadata": {},
   "source": [
    "### Prediction System"
   ]
  },
  {
   "cell_type": "code",
   "execution_count": 30,
   "id": "758771f3",
   "metadata": {},
   "outputs": [
    {
     "name": "stdout",
     "output_type": "stream",
     "text": [
      "Predicted Value:  [84.98190016]\n"
     ]
    }
   ],
   "source": [
    "# Define your Input Data\n",
    "input_data = (1447.160034, 78.470001, 15.1800, 1.471692)\n",
    "\n",
    "# Convert the Input Data to a numpy Array\n",
    "np_array = np.asarray(input_data)\n",
    "\n",
    "# Reshape the array to have the shape(1, -1) to make it compatible with the model's expected input format\n",
    "reshape = np_array.reshape(1, -1)\n",
    "\n",
    "# Use the trained model to make a prediction\n",
    "pred = reg.predict(reshape)\n",
    "\n",
    "# Print the Predicted value\n",
    "print(\"Predicted Value: \", pred)"
   ]
  },
  {
   "cell_type": "code",
   "execution_count": 31,
   "id": "d3e75835",
   "metadata": {},
   "outputs": [
    {
     "name": "stdout",
     "output_type": "stream",
     "text": [
      "Predicted Value:  [86.33179921]\n"
     ]
    }
   ],
   "source": [
    "# Define your Input Data\n",
    "input_data = (1390.189941, 76.059998, 15.5900, 1.557099)\n",
    "\n",
    "# Convert the Input Data to a numpy Array\n",
    "np_array = np.asarray(input_data)\n",
    "\n",
    "# Reshape the array to have the shape(1, -1) to make it compatible with the model's expected input format\n",
    "reshape = np_array.reshape(1, -1)\n",
    "\n",
    "# Use the trained model to make a prediction\n",
    "pred = reg.predict(reshape)\n",
    "\n",
    "# Print the Predicted value\n",
    "print(\"Predicted Value: \", pred)"
   ]
  },
  {
   "cell_type": "markdown",
   "id": "01b3938e",
   "metadata": {},
   "source": [
    "## Pickle Files"
   ]
  },
  {
   "cell_type": "code",
   "execution_count": 32,
   "id": "bf795de2",
   "metadata": {},
   "outputs": [],
   "source": [
    "import pickle\n",
    "\n",
    "pickle.dump(reg, open('RegModel.pkl', 'wb'))"
   ]
  },
  {
   "cell_type": "code",
   "execution_count": null,
   "id": "63dc1dc3",
   "metadata": {},
   "outputs": [],
   "source": []
  }
 ],
 "metadata": {
  "kernelspec": {
   "display_name": "Python 3 (ipykernel)",
   "language": "python",
   "name": "python3"
  },
  "language_info": {
   "codemirror_mode": {
    "name": "ipython",
    "version": 3
   },
   "file_extension": ".py",
   "mimetype": "text/x-python",
   "name": "python",
   "nbconvert_exporter": "python",
   "pygments_lexer": "ipython3",
   "version": "3.9.12"
  }
 },
 "nbformat": 4,
 "nbformat_minor": 5
}
