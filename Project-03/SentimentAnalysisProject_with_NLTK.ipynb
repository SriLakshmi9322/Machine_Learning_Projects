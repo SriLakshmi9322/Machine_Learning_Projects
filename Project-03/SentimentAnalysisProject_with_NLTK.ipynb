{
 "cells": [
  {
   "cell_type": "markdown",
   "id": "75e23467",
   "metadata": {},
   "source": [
    "<a class=\"anchor\" id=\"0\"></a>\n",
    "## **Sentiment Analysis in Python**\n",
    "\n",
    "Sentiment Analysis aims to determine a writer's attitude towards a topic or the overall contextual polarity of a document. The attitude can be his judgement or assessment, his emotional state or the\n",
    "intended emotional communication.\n",
    "\n",
    "In Sentimental Analysis, the main task is to identify opinion words, which is very important. Opinion words are dominant indicators of feelings, especially adjectives, adverbs and verbs. For Example: \"I Love this Camera. It's Amazing!\".\n",
    "\n",
    "Opinion words are also known as polarity words, Sentiment words, opinion lexicon, or opinion words, which can generally be divided into two types: \n",
    "1. Positive words - E.g, Wonderful, Elegant, Astonishing\n",
    "2. Negative words - E.g, Horrible, Disgusting, Poor"
   ]
  },
  {
   "cell_type": "markdown",
   "id": "ead05fdb",
   "metadata": {},
   "source": [
    "### Read in data"
   ]
  },
  {
   "cell_type": "code",
   "execution_count": 1,
   "id": "a7ad8775",
   "metadata": {},
   "outputs": [],
   "source": [
    "import warnings\n",
    "\n",
    "warnings.filterwarnings('ignore')"
   ]
  },
  {
   "cell_type": "code",
   "execution_count": 2,
   "id": "b9e95aba",
   "metadata": {},
   "outputs": [],
   "source": [
    "import pandas as pd\n",
    "import numpy as np\n",
    "import matplotlib.pyplot as plt\n",
    "import seaborn as sns"
   ]
  },
  {
   "cell_type": "code",
   "execution_count": 3,
   "id": "79ece2be",
   "metadata": {},
   "outputs": [
    {
     "data": {
      "text/html": [
       "<div>\n",
       "<style scoped>\n",
       "    .dataframe tbody tr th:only-of-type {\n",
       "        vertical-align: middle;\n",
       "    }\n",
       "\n",
       "    .dataframe tbody tr th {\n",
       "        vertical-align: top;\n",
       "    }\n",
       "\n",
       "    .dataframe thead th {\n",
       "        text-align: right;\n",
       "    }\n",
       "</style>\n",
       "<table border=\"1\" class=\"dataframe\">\n",
       "  <thead>\n",
       "    <tr style=\"text-align: right;\">\n",
       "      <th></th>\n",
       "      <th>text</th>\n",
       "      <th>label</th>\n",
       "    </tr>\n",
       "  </thead>\n",
       "  <tbody>\n",
       "    <tr>\n",
       "      <th>0</th>\n",
       "      <td>I grew up (b. 1965) watching and loving the Th...</td>\n",
       "      <td>0</td>\n",
       "    </tr>\n",
       "    <tr>\n",
       "      <th>1</th>\n",
       "      <td>When I put this movie in my DVD player, and sa...</td>\n",
       "      <td>0</td>\n",
       "    </tr>\n",
       "    <tr>\n",
       "      <th>2</th>\n",
       "      <td>Why do people who do not know what a particula...</td>\n",
       "      <td>0</td>\n",
       "    </tr>\n",
       "    <tr>\n",
       "      <th>3</th>\n",
       "      <td>Even though I have great interest in Biblical ...</td>\n",
       "      <td>0</td>\n",
       "    </tr>\n",
       "    <tr>\n",
       "      <th>4</th>\n",
       "      <td>Im a die hard Dads Army fan and nothing will e...</td>\n",
       "      <td>1</td>\n",
       "    </tr>\n",
       "  </tbody>\n",
       "</table>\n",
       "</div>"
      ],
      "text/plain": [
       "                                                text  label\n",
       "0  I grew up (b. 1965) watching and loving the Th...      0\n",
       "1  When I put this movie in my DVD player, and sa...      0\n",
       "2  Why do people who do not know what a particula...      0\n",
       "3  Even though I have great interest in Biblical ...      0\n",
       "4  Im a die hard Dads Army fan and nothing will e...      1"
      ]
     },
     "execution_count": 3,
     "metadata": {},
     "output_type": "execute_result"
    }
   ],
   "source": [
    "data = pd.read_csv('Sentiment_Analysis_Dataset.csv')\n",
    "data.head()"
   ]
  },
  {
   "cell_type": "markdown",
   "id": "5350bb74",
   "metadata": {},
   "source": [
    "### About Data\n",
    "\n",
    "After reading the dataset which contains 40k movie reviews from IMDB, We see that there are two prominent columns. One being TEXT which contains the criticism and the other being LABEL which contains the 0's and 1's, where\n",
    "- 0: NEGATIVE \n",
    "- 1: POSITIVE"
   ]
  },
  {
   "cell_type": "markdown",
   "id": "d7d32710",
   "metadata": {},
   "source": [
    "### Preprocessing Steps"
   ]
  },
  {
   "cell_type": "code",
   "execution_count": 4,
   "id": "87699679",
   "metadata": {},
   "outputs": [
    {
     "data": {
      "text/plain": [
       "(40000, 2)"
      ]
     },
     "execution_count": 4,
     "metadata": {},
     "output_type": "execute_result"
    }
   ],
   "source": [
    "# 1. Shape of the data\n",
    "\n",
    "data.shape"
   ]
  },
  {
   "cell_type": "code",
   "execution_count": 5,
   "id": "e5667421",
   "metadata": {},
   "outputs": [],
   "source": [
    "data = data.iloc[:10000, :]"
   ]
  },
  {
   "cell_type": "code",
   "execution_count": 6,
   "id": "4e75cf1e",
   "metadata": {},
   "outputs": [
    {
     "data": {
      "text/plain": [
       "(10000, 2)"
      ]
     },
     "execution_count": 6,
     "metadata": {},
     "output_type": "execute_result"
    }
   ],
   "source": [
    "data.shape"
   ]
  },
  {
   "cell_type": "code",
   "execution_count": 7,
   "id": "afa8a096",
   "metadata": {},
   "outputs": [
    {
     "data": {
      "text/plain": [
       "text     0\n",
       "label    0\n",
       "dtype: int64"
      ]
     },
     "execution_count": 7,
     "metadata": {},
     "output_type": "execute_result"
    }
   ],
   "source": [
    "# 2. Check for null values in the Dataset\n",
    "\n",
    "data.isnull().sum()"
   ]
  },
  {
   "cell_type": "code",
   "execution_count": 8,
   "id": "cc7f780c",
   "metadata": {},
   "outputs": [
    {
     "name": "stdout",
     "output_type": "stream",
     "text": [
      "<class 'pandas.core.frame.DataFrame'>\n",
      "RangeIndex: 10000 entries, 0 to 9999\n",
      "Data columns (total 2 columns):\n",
      " #   Column  Non-Null Count  Dtype \n",
      "---  ------  --------------  ----- \n",
      " 0   text    10000 non-null  object\n",
      " 1   label   10000 non-null  int64 \n",
      "dtypes: int64(1), object(1)\n",
      "memory usage: 156.4+ KB\n"
     ]
    }
   ],
   "source": [
    "# 3. Information related to the Dataset\n",
    "\n",
    "data.info()"
   ]
  },
  {
   "cell_type": "code",
   "execution_count": 9,
   "id": "f59882da",
   "metadata": {},
   "outputs": [
    {
     "data": {
      "text/plain": [
       "13"
      ]
     },
     "execution_count": 9,
     "metadata": {},
     "output_type": "execute_result"
    }
   ],
   "source": [
    "# 4. Check for Duplicated values in the Dataset\n",
    "\n",
    "data.duplicated().sum()"
   ]
  },
  {
   "cell_type": "code",
   "execution_count": 10,
   "id": "34b47c07",
   "metadata": {},
   "outputs": [],
   "source": [
    "data.drop_duplicates(inplace=True)"
   ]
  },
  {
   "cell_type": "code",
   "execution_count": 11,
   "id": "83a79a61",
   "metadata": {},
   "outputs": [
    {
     "data": {
      "text/plain": [
       "0"
      ]
     },
     "execution_count": 11,
     "metadata": {},
     "output_type": "execute_result"
    }
   ],
   "source": [
    "data.duplicated().sum()"
   ]
  },
  {
   "cell_type": "code",
   "execution_count": 12,
   "id": "cc0c6b84",
   "metadata": {},
   "outputs": [
    {
     "data": {
      "text/html": [
       "<div>\n",
       "<style scoped>\n",
       "    .dataframe tbody tr th:only-of-type {\n",
       "        vertical-align: middle;\n",
       "    }\n",
       "\n",
       "    .dataframe tbody tr th {\n",
       "        vertical-align: top;\n",
       "    }\n",
       "\n",
       "    .dataframe thead th {\n",
       "        text-align: right;\n",
       "    }\n",
       "</style>\n",
       "<table border=\"1\" class=\"dataframe\">\n",
       "  <thead>\n",
       "    <tr style=\"text-align: right;\">\n",
       "      <th></th>\n",
       "      <th>label</th>\n",
       "    </tr>\n",
       "  </thead>\n",
       "  <tbody>\n",
       "    <tr>\n",
       "      <th>count</th>\n",
       "      <td>9987.000000</td>\n",
       "    </tr>\n",
       "    <tr>\n",
       "      <th>mean</th>\n",
       "      <td>0.496145</td>\n",
       "    </tr>\n",
       "    <tr>\n",
       "      <th>std</th>\n",
       "      <td>0.500010</td>\n",
       "    </tr>\n",
       "    <tr>\n",
       "      <th>min</th>\n",
       "      <td>0.000000</td>\n",
       "    </tr>\n",
       "    <tr>\n",
       "      <th>25%</th>\n",
       "      <td>0.000000</td>\n",
       "    </tr>\n",
       "    <tr>\n",
       "      <th>50%</th>\n",
       "      <td>0.000000</td>\n",
       "    </tr>\n",
       "    <tr>\n",
       "      <th>75%</th>\n",
       "      <td>1.000000</td>\n",
       "    </tr>\n",
       "    <tr>\n",
       "      <th>max</th>\n",
       "      <td>1.000000</td>\n",
       "    </tr>\n",
       "  </tbody>\n",
       "</table>\n",
       "</div>"
      ],
      "text/plain": [
       "             label\n",
       "count  9987.000000\n",
       "mean      0.496145\n",
       "std       0.500010\n",
       "min       0.000000\n",
       "25%       0.000000\n",
       "50%       0.000000\n",
       "75%       1.000000\n",
       "max       1.000000"
      ]
     },
     "execution_count": 12,
     "metadata": {},
     "output_type": "execute_result"
    }
   ],
   "source": [
    "# 5. Mathematical Description of the Dataset\n",
    "\n",
    "data.describe()"
   ]
  },
  {
   "cell_type": "markdown",
   "id": "b01efe5e",
   "metadata": {},
   "source": [
    "### Working with Label"
   ]
  },
  {
   "cell_type": "code",
   "execution_count": 13,
   "id": "16ace073",
   "metadata": {},
   "outputs": [
    {
     "data": {
      "text/plain": [
       "0    5032\n",
       "1    4955\n",
       "Name: label, dtype: int64"
      ]
     },
     "execution_count": 13,
     "metadata": {},
     "output_type": "execute_result"
    }
   ],
   "source": [
    "data['label'].value_counts()"
   ]
  },
  {
   "cell_type": "code",
   "execution_count": 14,
   "id": "d950c55b",
   "metadata": {},
   "outputs": [
    {
     "data": {
      "text/plain": [
       "<AxesSubplot:>"
      ]
     },
     "execution_count": 14,
     "metadata": {},
     "output_type": "execute_result"
    },
    {
     "data": {
      "image/png": "[encoded data removed]",
      "text/plain": [
       "<Figure size 432x288 with 1 Axes>"
      ]
     },
     "metadata": {
      "needs_background": "light"
     },
     "output_type": "display_data"
    }
   ],
   "source": [
    "data['label'].value_counts().plot(kind='bar')"
   ]
  },
  {
   "cell_type": "code",
   "execution_count": 15,
   "id": "ce589241",
   "metadata": {},
   "outputs": [
    {
     "data": {
      "text/plain": [
       "Text(0.5, 1.0, 'Label Distribution')"
      ]
     },
     "execution_count": 15,
     "metadata": {},
     "output_type": "execute_result"
    },
    {
     "data": {
      "image/png": "[encoded data removed]",
      "text/plain": [
       "<Figure size 720x432 with 1 Axes>"
      ]
     },
     "metadata": {},
     "output_type": "display_data"
    }
   ],
   "source": [
    "plt.figure(figsize=(10, 6))\n",
    "colors = ['green', 'orange']\n",
    "data['label'].value_counts().plot(kind='pie', autopct='%.1f%%', shadow=True, colors=colors,\n",
    "                                  startangle=45, explode=(0, 0.1))\n",
    "\n",
    "plt.title('Label Distribution')"
   ]
  },
  {
   "cell_type": "markdown",
   "id": "072f6c5a",
   "metadata": {},
   "source": [
    "### Working with Text"
   ]
  },
  {
   "cell_type": "code",
   "execution_count": 16,
   "id": "6cfab248",
   "metadata": {},
   "outputs": [
    {
     "data": {
      "text/plain": [
       "'...but I regret having seen it. Since the ratings on IMDb are relatively high (and they must also have been relatively high on Netflix), I guess I put it in my queue because it is advertised as a gentle comedy from the UK, a category that has produced many films I liked immensely. \"Saving Grace,\" on the other hand, falls into the category of laugh-less comedies usually populated by Hollywood movies produced and directed by the talentless. Brenda Blethyn is a capable actress, and I have liked her in other movies. The concept -- a gardener growing marijuana to overcome the penury she finds herself confronting after her husband\\'s death -- does not offend me. Notwithstanding the strenuous efforts on the part of the cast to produce humor, the film falls flat on its face (falling flat on its arse might have been funnier) as far as I and my wife were concerned. Be forewarned, oh gentle reader, not all offbeat British comedies succeed. This one is a dud.'"
      ]
     },
     "execution_count": 16,
     "metadata": {},
     "output_type": "execute_result"
    }
   ],
   "source": [
    "data['text'][999]"
   ]
  },
  {
   "cell_type": "markdown",
   "id": "149b99d2",
   "metadata": {},
   "source": [
    "<a class=\"anchor\" id=\"0\"></a>\n",
    "### Clearning Steps\n",
    "\n",
    "1. removing HTML Tags\n",
    "2. extracting emojies # The pattern re.compile('(?::|;|=)(?:-)?(?:)|(|D|P)') is a regular expression used to match and extract emojis from given text.\n",
    "3. removing special chars, puntuation, symbols\n",
    "4. lower casing\n",
    "5. removing stopwords\n",
    "6. tokenization"
   ]
  },
  {
   "cell_type": "code",
   "execution_count": 17,
   "id": "da563b6e",
   "metadata": {},
   "outputs": [],
   "source": [
    "import re\n",
    "import nltk\n",
    "from nltk.stem.porter import PorterStemmer\n",
    "from nltk.corpus import stopwords"
   ]
  },
  {
   "cell_type": "code",
   "execution_count": 18,
   "id": "02c8fe94",
   "metadata": {},
   "outputs": [],
   "source": [
    "stopwords_set = set(stopwords.words('english'))\n",
    "emoji_pattern = re.compile('(?::|;|=)(?:-)?(?:\\)|\\(|D|P)')\n",
    "\n",
    "def preprocessing(text):\n",
    "    text = re.sub('<[^>]*>', '', text)\n",
    "    emojis = emoji_pattern.findall(text)\n",
    "    text = re.sub('[\\W+]', ' ', text.lower()) + ' '.join(emojis).replace('-', '')\n",
    "    \n",
    "    prter = PorterStemmer()\n",
    "    text = [prter.stem(word) for word in text.split() if word not in stopwords_set]\n",
    "    \n",
    "    return \" \".join(text)"
   ]
  },
  {
   "cell_type": "code",
   "execution_count": 19,
   "id": "225d1fbe",
   "metadata": {},
   "outputs": [
    {
     "data": {
      "text/plain": [
       "'tag helo world :)'"
      ]
     },
     "execution_count": 19,
     "metadata": {},
     "output_type": "execute_result"
    }
   ],
   "source": [
    "preprocessing(\"this is my tags <h1> :) <p>helo world<p> <div> <div> </h2>\")"
   ]
  },
  {
   "cell_type": "code",
   "execution_count": 20,
   "id": "09e2c949",
   "metadata": {},
   "outputs": [],
   "source": [
    "data['text'] = data['text'].apply(lambda x: preprocessing(x))"
   ]
  },
  {
   "cell_type": "code",
   "execution_count": 21,
   "id": "dc6f53c2",
   "metadata": {},
   "outputs": [
    {
     "data": {
      "text/plain": [
       "0       grew b 1965 watch love thunderbird mate school...\n",
       "1       put movi dvd player sat coke chip expect hope ...\n",
       "2       peopl know particular time past like feel need...\n",
       "3       even though great interest biblic movi bore de...\n",
       "4       im die hard dad armi fan noth ever chang got t...\n",
       "                              ...                        \n",
       "9995    one cerebr insight movi ever seen script langu...\n",
       "9996    first movi near complet guess someon actual bo...\n",
       "9997    said movi cross dress gangster much averag ind...\n",
       "9998    like adult comedi cartoon like south park near...\n",
       "9999    well start straighthead present bit dilemma fi...\n",
       "Name: text, Length: 9987, dtype: object"
      ]
     },
     "execution_count": 21,
     "metadata": {},
     "output_type": "execute_result"
    }
   ],
   "source": [
    "data['text']"
   ]
  },
  {
   "cell_type": "markdown",
   "id": "a56a2bdb",
   "metadata": {},
   "source": [
    "### Visualizing Negative and Positive words"
   ]
  },
  {
   "cell_type": "code",
   "execution_count": 22,
   "id": "f349cce7",
   "metadata": {},
   "outputs": [
    {
     "data": {
      "image/png": "[encoded data removed]",
      "text/plain": [
       "<Figure size 864x432 with 2 Axes>"
      ]
     },
     "metadata": {
      "needs_background": "light"
     },
     "output_type": "display_data"
    }
   ],
   "source": [
    "positivedata = data[data['label'] == 1]\n",
    "positivedata = positivedata['text']\n",
    "negdata = data[data['label'] == 0]\n",
    "negdata = negdata['text']\n",
    "\n",
    "import matplotlib.pyplot as plt\n",
    "from collections import Counter\n",
    "\n",
    "# Positive Data\n",
    "positivedata_words = ' '.join(positivedata).split()\n",
    "positivedata_word_counts = Counter(positivedata_words)\n",
    "positivedata_common_words = positivedata_word_counts.most_common(10)    # Display top 10 common words\n",
    "\n",
    "# Negative Data\n",
    "negdata_words = ' '.join(negdata).split()\n",
    "negdata_word_counts = Counter(negdata_words)\n",
    "negdata_common_words = negdata_word_counts.most_common(10)     # Display top 10 common words\n",
    "\n",
    "# Plotting\n",
    "fig, axes = plt.subplots(1, 2, figsize=(12, 6))\n",
    "\n",
    "# Positive Data word Frequency\n",
    "axes[0].barh(range(len(positivedata_common_words)), [count for _, count in positivedata_common_words], align='center')\n",
    "axes[0].set_yticks(range(len(positivedata_common_words)))\n",
    "axes[0].set_yticklabels([word for word, _ in positivedata_common_words])\n",
    "axes[0].set_title('Positive Data Word Frequency')\n",
    "\n",
    "# Negative Data word Frequency\n",
    "axes[1].barh(range(len(negdata_common_words)), [count for _, count in negdata_common_words], align='center')\n",
    "axes[1].set_yticks(range(len(negdata_common_words)))\n",
    "axes[1].set_yticklabels([word for word, _ in negdata_common_words])\n",
    "axes[1].set_title('Negative Data Word Frequency')\n",
    "\n",
    "plt.tight_layout()\n",
    "plt.show()"
   ]
  },
  {
   "cell_type": "markdown",
   "id": "4dbdc434",
   "metadata": {},
   "source": [
    "### TF-IDF Vertorizer to convert the raw documents into feature matrix"
   ]
  },
  {
   "cell_type": "code",
   "execution_count": 23,
   "id": "6f5a9bf5",
   "metadata": {},
   "outputs": [],
   "source": [
    "from sklearn.feature_extraction.text import TfidfVectorizer\n",
    "\n",
    "tfidf = TfidfVectorizer(strip_accents=None, lowercase=False, preprocessor=None,\n",
    "                        use_idf=True, norm='l2', smooth_idf=True)\n",
    "y = data.label.values\n",
    "x = tfidf.fit_transform(data.text)"
   ]
  },
  {
   "cell_type": "markdown",
   "id": "bfaa8a76",
   "metadata": {},
   "source": [
    "<a class=\"anchor\" id=\"0\"></a>\n",
    "### Training Machine Learning Model for Sentiment Analysis\n",
    "\n",
    "Now to train a machine learning model, I will split the data into 50% training and 50% test sets"
   ]
  },
  {
   "cell_type": "code",
   "execution_count": 24,
   "id": "3763e6bc",
   "metadata": {},
   "outputs": [],
   "source": [
    "from sklearn.model_selection import train_test_split\n",
    "\n",
    "X_train, X_test, y_train, y_test = train_test_split(x, y, random_state=1, test_size=0.5, shuffle=False)"
   ]
  },
  {
   "cell_type": "code",
   "execution_count": 25,
   "id": "522adcdd",
   "metadata": {},
   "outputs": [
    {
     "name": "stderr",
     "output_type": "stream",
     "text": [
      "[Parallel(n_jobs=-1)]: Using backend LokyBackend with 12 concurrent workers.\n",
      "[Parallel(n_jobs=-1)]: Done   4 out of   6 | elapsed:   35.9s remaining:   17.9s\n",
      "[Parallel(n_jobs=-1)]: Done   6 out of   6 | elapsed:   36.2s finished\n"
     ]
    }
   ],
   "source": [
    "from sklearn.linear_model import LogisticRegressionCV\n",
    "\n",
    "clf = LogisticRegressionCV(cv=6, scoring='accuracy', random_state=0, n_jobs=-1, verbose=3, max_iter=500).fit(X_train, y_train)\n",
    "y_pred = clf.predict(X_test)"
   ]
  },
  {
   "cell_type": "markdown",
   "id": "c77072f6",
   "metadata": {},
   "source": [
    "### Accuracy"
   ]
  },
  {
   "cell_type": "code",
   "execution_count": 26,
   "id": "e039147c",
   "metadata": {},
   "outputs": [
    {
     "name": "stdout",
     "output_type": "stream",
     "text": [
      "Accuracy:  0.8758510212254705\n"
     ]
    }
   ],
   "source": [
    "from sklearn import metrics\n",
    "\n",
    "# Model Accuracy, how often is the classifier correct?\n",
    "print(\"Accuracy: \", metrics.accuracy_score(y_test, y_pred))"
   ]
  },
  {
   "cell_type": "markdown",
   "id": "876c6d72",
   "metadata": {},
   "source": [
    "### Pickle Files"
   ]
  },
  {
   "cell_type": "code",
   "execution_count": 27,
   "id": "c2299ec2",
   "metadata": {},
   "outputs": [],
   "source": [
    "import pickle\n",
    "\n",
    "pickle.dump(clf, open('clf.pkl', 'wb'))\n",
    "pickle.dump(tfidf, open('tfidf.pkl', 'wb'))"
   ]
  },
  {
   "cell_type": "markdown",
   "id": "c3bd922e",
   "metadata": {},
   "source": [
    "### Prediction"
   ]
  },
  {
   "cell_type": "code",
   "execution_count": 28,
   "id": "d5ec0f53",
   "metadata": {},
   "outputs": [
    {
     "data": {
      "text/plain": [
       "'one cerebr insight movi ever seen script languag costum sceneri plot charact etc suprem bore watch intens even listen movi work mani time lost count scarlett age grace acquir wisdom beyond year end movi take tara ireland famili origin see result anoth civil war play time irish english movi depict doubl standard men time man still respect girlfriend whore woman mere seen privat place man societi accus improprieti cours scarlett alway think outsid box break rule necessari creat need chang help peopl surviv scarlett beauti definit bone strength self esteem wisdom grow age rememb line confront much plate tomorrow anoth day way carri determin courag learn experi good movi show daughter teach woman import respect men especi handsom one two side may treat woman differ depend act respect attract woman need learn movi teach movi like therapi better gone wind second part take place ireland anyon irish decent cherish sceneri peopl scarlett charact within'"
      ]
     },
     "execution_count": 28,
     "metadata": {},
     "output_type": "execute_result"
    }
   ],
   "source": [
    "data['text'][9995]"
   ]
  },
  {
   "cell_type": "code",
   "execution_count": 29,
   "id": "429f358b",
   "metadata": {},
   "outputs": [
    {
     "data": {
      "text/plain": [
       "'grew b 1965 watch love thunderbird mate school watch play thunderbird school lunch school want virgil scott one want alan count 5 becam art form took children see movi hope would get glimps love child bitterli disappoint high point snappi theme tune could compar origin score thunderbird thank earli saturday morn one televis channel still play rerun seri gerri anderson wife creat jonatha frake hand director chair version complet hopeless wast film utter rubbish cgi remak may accept replac marionett homo sapien subsp sapien huge error judgment'"
      ]
     },
     "execution_count": 29,
     "metadata": {},
     "output_type": "execute_result"
    }
   ],
   "source": [
    "data['text'][0]"
   ]
  },
  {
   "cell_type": "code",
   "execution_count": 30,
   "id": "942f0da8",
   "metadata": {},
   "outputs": [],
   "source": [
    "def prediction(comment):\n",
    "    preprocessed_comments = preprocessing(comment)\n",
    "    comment_list = [preprocessed_comments]\n",
    "    comment_vector = tfidf.transform(comment_list)\n",
    "    prediction = clf.predict(comment_vector)[0]\n",
    "    return prediction\n",
    "\n",
    "\n",
    "prediction1 = prediction('one cerebr insight movi ever seen script languag costum sceneri plot charact etc suprem bore watch intens even listen movi work mani time lost count scarlett age grace acquir wisdom beyond year end movi take tara ireland famili origin see result anoth civil war play time irish english movi depict doubl standard men time man still respect girlfriend whore woman mere seen privat place man societi accus improprieti cours scarlett alway think outsid box break rule necessari creat need chang help peopl surviv scarlett beauti definit bone strength self esteem wisdom grow age rememb line confront much plate tomorrow anoth day way carri determin courag learn experi good movi show daughter teach woman import respect men especi handsom one two side may treat woman differ depend act respect attract woman need learn movi teach movi like therapi better gone wind second part take place ireland anyon irish decent cherish sceneri peopl scarlett charact within')"
   ]
  },
  {
   "cell_type": "code",
   "execution_count": 31,
   "id": "8ad5d8ee",
   "metadata": {},
   "outputs": [
    {
     "name": "stdout",
     "output_type": "stream",
     "text": [
      "Positive Comment\n"
     ]
    }
   ],
   "source": [
    "if prediction1 == 1:\n",
    "    print(\"Positive Comment\")\n",
    "else:\n",
    "    print(\"Negative Comment\")"
   ]
  },
  {
   "cell_type": "code",
   "execution_count": 32,
   "id": "7dd37c82",
   "metadata": {},
   "outputs": [],
   "source": [
    "def prediction(comment):\n",
    "    preprocessed_comments = preprocessing(comment)\n",
    "    comment_list = [preprocessed_comments]\n",
    "    comment_vector = tfidf.transform(comment_list)\n",
    "    prediction = clf.predict(comment_vector)[0]\n",
    "    return prediction\n",
    "\n",
    "\n",
    "prediction2 = prediction('grew b 1965 watch love thunderbird mate school watch play thunderbird school lunch school want virgil scott one want alan count 5 becam art form took children see movi hope would get glimps love child bitterli disappoint high point snappi theme tune could compar origin score thunderbird thank earli saturday morn one televis channel still play rerun seri gerri anderson wife creat jonatha frake hand director chair version complet hopeless wast film utter rubbish cgi remak may accept replac marionett homo sapien subsp sapien huge error judgment')"
   ]
  },
  {
   "cell_type": "code",
   "execution_count": 33,
   "id": "355c9840",
   "metadata": {},
   "outputs": [
    {
     "name": "stdout",
     "output_type": "stream",
     "text": [
      "Negative Comment\n"
     ]
    }
   ],
   "source": [
    "if prediction2 == 1:\n",
    "    print(\"Positive Comment\")\n",
    "else:\n",
    "    print(\"Negative Comment\")"
   ]
  },
  {
   "cell_type": "code",
   "execution_count": null,
   "id": "61cb0397",
   "metadata": {},
   "outputs": [],
   "source": []
  }
 ],
 "metadata": {
  "kernelspec": {
   "display_name": "Python 3 (ipykernel)",
   "language": "python",
   "name": "python3"
  },
  "language_info": {
   "codemirror_mode": {
    "name": "ipython",
    "version": 3
   },
   "file_extension": ".py",
   "mimetype": "text/x-python",
   "name": "python",
   "nbconvert_exporter": "python",
   "pygments_lexer": "ipython3",
   "version": "3.9.12"
  }
 },
 "nbformat": 4,
 "nbformat_minor": 5
}
