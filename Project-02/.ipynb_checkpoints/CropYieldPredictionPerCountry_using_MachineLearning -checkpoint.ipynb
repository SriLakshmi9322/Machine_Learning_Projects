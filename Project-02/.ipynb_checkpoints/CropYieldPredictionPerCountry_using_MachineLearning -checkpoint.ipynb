{
 "cells": [
  {
   "cell_type": "markdown",
   "id": "e4fcff22",
   "metadata": {},
   "source": [
    "## Crop Yield Prediction per Country\n",
    "- ***Crop Yield Prediction*** is a machine learning-based project that forecasts the expected agricultural yield for specific crops in various countries using data-driven approaches, enabling stakeholders to optimize resource allocation, plan agricultural strategies, and improve food security."
   ]
  },
  {
   "cell_type": "code",
   "execution_count": 1,
   "id": "46099d55",
   "metadata": {},
   "outputs": [],
   "source": [
    "import warnings\n",
    "\n",
    "warnings.filterwarnings('ignore')"
   ]
  },
  {
   "cell_type": "code",
   "execution_count": 2,
   "id": "6b601088",
   "metadata": {},
   "outputs": [],
   "source": [
    "# Import Libraries\n",
    "\n",
    "import pandas as pd\n",
    "import numpy as np\n",
    "import matplotlib.pyplot as plt\n",
    "import seaborn as sns"
   ]
  },
  {
   "cell_type": "code",
   "execution_count": 3,
   "id": "49437cb9",
   "metadata": {},
   "outputs": [],
   "source": [
    "# Load dataset\n",
    "\n",
    "data = pd.read_csv('yield_df.csv')"
   ]
  },
  {
   "cell_type": "code",
   "execution_count": 4,
   "id": "68da8641",
   "metadata": {},
   "outputs": [
    {
     "data": {
      "text/html": [
       "<div>\n",
       "<style scoped>\n",
       "    .dataframe tbody tr th:only-of-type {\n",
       "        vertical-align: middle;\n",
       "    }\n",
       "\n",
       "    .dataframe tbody tr th {\n",
       "        vertical-align: top;\n",
       "    }\n",
       "\n",
       "    .dataframe thead th {\n",
       "        text-align: right;\n",
       "    }\n",
       "</style>\n",
       "<table border=\"1\" class=\"dataframe\">\n",
       "  <thead>\n",
       "    <tr style=\"text-align: right;\">\n",
       "      <th></th>\n",
       "      <th>Unnamed: 0</th>\n",
       "      <th>Area</th>\n",
       "      <th>Item</th>\n",
       "      <th>Year</th>\n",
       "      <th>hg/ha_yield</th>\n",
       "      <th>average_rain_fall_mm_per_year</th>\n",
       "      <th>pesticides_tonnes</th>\n",
       "      <th>avg_temp</th>\n",
       "    </tr>\n",
       "  </thead>\n",
       "  <tbody>\n",
       "    <tr>\n",
       "      <th>0</th>\n",
       "      <td>0</td>\n",
       "      <td>Albania</td>\n",
       "      <td>Maize</td>\n",
       "      <td>1990</td>\n",
       "      <td>36613</td>\n",
       "      <td>1485.0</td>\n",
       "      <td>121.0</td>\n",
       "      <td>16.37</td>\n",
       "    </tr>\n",
       "    <tr>\n",
       "      <th>1</th>\n",
       "      <td>1</td>\n",
       "      <td>Albania</td>\n",
       "      <td>Potatoes</td>\n",
       "      <td>1990</td>\n",
       "      <td>66667</td>\n",
       "      <td>1485.0</td>\n",
       "      <td>121.0</td>\n",
       "      <td>16.37</td>\n",
       "    </tr>\n",
       "    <tr>\n",
       "      <th>2</th>\n",
       "      <td>2</td>\n",
       "      <td>Albania</td>\n",
       "      <td>Rice, paddy</td>\n",
       "      <td>1990</td>\n",
       "      <td>23333</td>\n",
       "      <td>1485.0</td>\n",
       "      <td>121.0</td>\n",
       "      <td>16.37</td>\n",
       "    </tr>\n",
       "    <tr>\n",
       "      <th>3</th>\n",
       "      <td>3</td>\n",
       "      <td>Albania</td>\n",
       "      <td>Sorghum</td>\n",
       "      <td>1990</td>\n",
       "      <td>12500</td>\n",
       "      <td>1485.0</td>\n",
       "      <td>121.0</td>\n",
       "      <td>16.37</td>\n",
       "    </tr>\n",
       "    <tr>\n",
       "      <th>4</th>\n",
       "      <td>4</td>\n",
       "      <td>Albania</td>\n",
       "      <td>Soybeans</td>\n",
       "      <td>1990</td>\n",
       "      <td>7000</td>\n",
       "      <td>1485.0</td>\n",
       "      <td>121.0</td>\n",
       "      <td>16.37</td>\n",
       "    </tr>\n",
       "  </tbody>\n",
       "</table>\n",
       "</div>"
      ],
      "text/plain": [
       "   Unnamed: 0     Area         Item  Year  hg/ha_yield  \\\n",
       "0           0  Albania        Maize  1990        36613   \n",
       "1           1  Albania     Potatoes  1990        66667   \n",
       "2           2  Albania  Rice, paddy  1990        23333   \n",
       "3           3  Albania      Sorghum  1990        12500   \n",
       "4           4  Albania     Soybeans  1990         7000   \n",
       "\n",
       "   average_rain_fall_mm_per_year  pesticides_tonnes  avg_temp  \n",
       "0                         1485.0              121.0     16.37  \n",
       "1                         1485.0              121.0     16.37  \n",
       "2                         1485.0              121.0     16.37  \n",
       "3                         1485.0              121.0     16.37  \n",
       "4                         1485.0              121.0     16.37  "
      ]
     },
     "execution_count": 4,
     "metadata": {},
     "output_type": "execute_result"
    }
   ],
   "source": [
    "# Preview the dataset\n",
    "\n",
    "data.head()"
   ]
  },
  {
   "cell_type": "markdown",
   "id": "263ce9db",
   "metadata": {},
   "source": [
    "### Data Description\n",
    "\n",
    "1. 'Unnamed: 0': A unique identifier.\n",
    "2. 'Area': Geographic region or country where the data was collected.\n",
    "3. 'Item': Type of crop for which yield data is recorded.\n",
    "4. 'Year': Year, when the yield and associated data were recorded.\n",
    "5. 'hg/ha_yield': Crop yield in hectograms per hectare (target variable).\n",
    "6. 'average_rain_fall_mm_per_year': Annual average rainfall in millimeters.\n",
    "7. 'pesticides_tonnes': Total pesticide usage in tonnes.\n",
    "8. 'avg_temp': Average annual temperature in degrees Celsius."
   ]
  },
  {
   "cell_type": "code",
   "execution_count": 5,
   "id": "2fee42ae",
   "metadata": {},
   "outputs": [],
   "source": [
    "data.drop('Unnamed: 0', axis=1, inplace=True)"
   ]
  },
  {
   "cell_type": "code",
   "execution_count": 6,
   "id": "18bec3e2",
   "metadata": {},
   "outputs": [
    {
     "data": {
      "text/html": [
       "<div>\n",
       "<style scoped>\n",
       "    .dataframe tbody tr th:only-of-type {\n",
       "        vertical-align: middle;\n",
       "    }\n",
       "\n",
       "    .dataframe tbody tr th {\n",
       "        vertical-align: top;\n",
       "    }\n",
       "\n",
       "    .dataframe thead th {\n",
       "        text-align: right;\n",
       "    }\n",
       "</style>\n",
       "<table border=\"1\" class=\"dataframe\">\n",
       "  <thead>\n",
       "    <tr style=\"text-align: right;\">\n",
       "      <th></th>\n",
       "      <th>Area</th>\n",
       "      <th>Item</th>\n",
       "      <th>Year</th>\n",
       "      <th>hg/ha_yield</th>\n",
       "      <th>average_rain_fall_mm_per_year</th>\n",
       "      <th>pesticides_tonnes</th>\n",
       "      <th>avg_temp</th>\n",
       "    </tr>\n",
       "  </thead>\n",
       "  <tbody>\n",
       "    <tr>\n",
       "      <th>0</th>\n",
       "      <td>Albania</td>\n",
       "      <td>Maize</td>\n",
       "      <td>1990</td>\n",
       "      <td>36613</td>\n",
       "      <td>1485.0</td>\n",
       "      <td>121.0</td>\n",
       "      <td>16.37</td>\n",
       "    </tr>\n",
       "    <tr>\n",
       "      <th>1</th>\n",
       "      <td>Albania</td>\n",
       "      <td>Potatoes</td>\n",
       "      <td>1990</td>\n",
       "      <td>66667</td>\n",
       "      <td>1485.0</td>\n",
       "      <td>121.0</td>\n",
       "      <td>16.37</td>\n",
       "    </tr>\n",
       "    <tr>\n",
       "      <th>2</th>\n",
       "      <td>Albania</td>\n",
       "      <td>Rice, paddy</td>\n",
       "      <td>1990</td>\n",
       "      <td>23333</td>\n",
       "      <td>1485.0</td>\n",
       "      <td>121.0</td>\n",
       "      <td>16.37</td>\n",
       "    </tr>\n",
       "    <tr>\n",
       "      <th>3</th>\n",
       "      <td>Albania</td>\n",
       "      <td>Sorghum</td>\n",
       "      <td>1990</td>\n",
       "      <td>12500</td>\n",
       "      <td>1485.0</td>\n",
       "      <td>121.0</td>\n",
       "      <td>16.37</td>\n",
       "    </tr>\n",
       "    <tr>\n",
       "      <th>4</th>\n",
       "      <td>Albania</td>\n",
       "      <td>Soybeans</td>\n",
       "      <td>1990</td>\n",
       "      <td>7000</td>\n",
       "      <td>1485.0</td>\n",
       "      <td>121.0</td>\n",
       "      <td>16.37</td>\n",
       "    </tr>\n",
       "  </tbody>\n",
       "</table>\n",
       "</div>"
      ],
      "text/plain": [
       "      Area         Item  Year  hg/ha_yield  average_rain_fall_mm_per_year  \\\n",
       "0  Albania        Maize  1990        36613                         1485.0   \n",
       "1  Albania     Potatoes  1990        66667                         1485.0   \n",
       "2  Albania  Rice, paddy  1990        23333                         1485.0   \n",
       "3  Albania      Sorghum  1990        12500                         1485.0   \n",
       "4  Albania     Soybeans  1990         7000                         1485.0   \n",
       "\n",
       "   pesticides_tonnes  avg_temp  \n",
       "0              121.0     16.37  \n",
       "1              121.0     16.37  \n",
       "2              121.0     16.37  \n",
       "3              121.0     16.37  \n",
       "4              121.0     16.37  "
      ]
     },
     "execution_count": 6,
     "metadata": {},
     "output_type": "execute_result"
    }
   ],
   "source": [
    "# Again Preview the Dataset\n",
    "\n",
    "data.head()"
   ]
  },
  {
   "cell_type": "markdown",
   "id": "0205bb03",
   "metadata": {},
   "source": [
    "### Data Preprocessing"
   ]
  },
  {
   "cell_type": "code",
   "execution_count": 7,
   "id": "87e503e9",
   "metadata": {},
   "outputs": [
    {
     "data": {
      "text/plain": [
       "(28242, 7)"
      ]
     },
     "execution_count": 7,
     "metadata": {},
     "output_type": "execute_result"
    }
   ],
   "source": [
    "# 1. Shape of the Data\n",
    "\n",
    "data.shape"
   ]
  },
  {
   "cell_type": "code",
   "execution_count": 8,
   "id": "4fe44b10",
   "metadata": {},
   "outputs": [
    {
     "data": {
      "text/plain": [
       "Area                             0\n",
       "Item                             0\n",
       "Year                             0\n",
       "hg/ha_yield                      0\n",
       "average_rain_fall_mm_per_year    0\n",
       "pesticides_tonnes                0\n",
       "avg_temp                         0\n",
       "dtype: int64"
      ]
     },
     "execution_count": 8,
     "metadata": {},
     "output_type": "execute_result"
    }
   ],
   "source": [
    "# 2. Check for null values in the Dataset\n",
    "\n",
    "data.isnull().sum()"
   ]
  },
  {
   "cell_type": "code",
   "execution_count": 9,
   "id": "c16722fe",
   "metadata": {},
   "outputs": [
    {
     "name": "stdout",
     "output_type": "stream",
     "text": [
      "<class 'pandas.core.frame.DataFrame'>\n",
      "RangeIndex: 28242 entries, 0 to 28241\n",
      "Data columns (total 7 columns):\n",
      " #   Column                         Non-Null Count  Dtype  \n",
      "---  ------                         --------------  -----  \n",
      " 0   Area                           28242 non-null  object \n",
      " 1   Item                           28242 non-null  object \n",
      " 2   Year                           28242 non-null  int64  \n",
      " 3   hg/ha_yield                    28242 non-null  int64  \n",
      " 4   average_rain_fall_mm_per_year  28242 non-null  float64\n",
      " 5   pesticides_tonnes              28242 non-null  float64\n",
      " 6   avg_temp                       28242 non-null  float64\n",
      "dtypes: float64(3), int64(2), object(2)\n",
      "memory usage: 1.5+ MB\n"
     ]
    }
   ],
   "source": [
    "# 3. Information related to the Dataset\n",
    "\n",
    "data.info()"
   ]
  },
  {
   "cell_type": "code",
   "execution_count": 10,
   "id": "d2dbdc5b",
   "metadata": {},
   "outputs": [
    {
     "data": {
      "text/plain": [
       "2310"
      ]
     },
     "execution_count": 10,
     "metadata": {},
     "output_type": "execute_result"
    }
   ],
   "source": [
    "# 4. Check for Duplicated values in the Dataset\n",
    "\n",
    "data.duplicated().sum()"
   ]
  },
  {
   "cell_type": "code",
   "execution_count": 11,
   "id": "5133c0fd",
   "metadata": {},
   "outputs": [],
   "source": [
    "data.drop_duplicates(inplace=True)"
   ]
  },
  {
   "cell_type": "code",
   "execution_count": 12,
   "id": "26761cfe",
   "metadata": {},
   "outputs": [
    {
     "data": {
      "text/plain": [
       "0"
      ]
     },
     "execution_count": 12,
     "metadata": {},
     "output_type": "execute_result"
    }
   ],
   "source": [
    "data.duplicated().sum()"
   ]
  },
  {
   "cell_type": "code",
   "execution_count": 13,
   "id": "31fc5d85",
   "metadata": {},
   "outputs": [
    {
     "data": {
      "text/html": [
       "<div>\n",
       "<style scoped>\n",
       "    .dataframe tbody tr th:only-of-type {\n",
       "        vertical-align: middle;\n",
       "    }\n",
       "\n",
       "    .dataframe tbody tr th {\n",
       "        vertical-align: top;\n",
       "    }\n",
       "\n",
       "    .dataframe thead th {\n",
       "        text-align: right;\n",
       "    }\n",
       "</style>\n",
       "<table border=\"1\" class=\"dataframe\">\n",
       "  <thead>\n",
       "    <tr style=\"text-align: right;\">\n",
       "      <th></th>\n",
       "      <th>Year</th>\n",
       "      <th>hg/ha_yield</th>\n",
       "      <th>average_rain_fall_mm_per_year</th>\n",
       "      <th>pesticides_tonnes</th>\n",
       "      <th>avg_temp</th>\n",
       "    </tr>\n",
       "  </thead>\n",
       "  <tbody>\n",
       "    <tr>\n",
       "      <th>count</th>\n",
       "      <td>25932.000000</td>\n",
       "      <td>25932.000000</td>\n",
       "      <td>25932.000000</td>\n",
       "      <td>25932.000000</td>\n",
       "      <td>25932.000000</td>\n",
       "    </tr>\n",
       "    <tr>\n",
       "      <th>mean</th>\n",
       "      <td>2001.556455</td>\n",
       "      <td>76978.132925</td>\n",
       "      <td>1146.836688</td>\n",
       "      <td>34782.573241</td>\n",
       "      <td>20.422251</td>\n",
       "    </tr>\n",
       "    <tr>\n",
       "      <th>std</th>\n",
       "      <td>7.055924</td>\n",
       "      <td>84647.605552</td>\n",
       "      <td>717.391098</td>\n",
       "      <td>57228.568244</td>\n",
       "      <td>6.439402</td>\n",
       "    </tr>\n",
       "    <tr>\n",
       "      <th>min</th>\n",
       "      <td>1990.000000</td>\n",
       "      <td>50.000000</td>\n",
       "      <td>51.000000</td>\n",
       "      <td>0.040000</td>\n",
       "      <td>1.300000</td>\n",
       "    </tr>\n",
       "    <tr>\n",
       "      <th>25%</th>\n",
       "      <td>1995.000000</td>\n",
       "      <td>19996.000000</td>\n",
       "      <td>593.000000</td>\n",
       "      <td>1597.000000</td>\n",
       "      <td>16.580000</td>\n",
       "    </tr>\n",
       "    <tr>\n",
       "      <th>50%</th>\n",
       "      <td>2001.000000</td>\n",
       "      <td>39530.000000</td>\n",
       "      <td>1083.000000</td>\n",
       "      <td>15373.000000</td>\n",
       "      <td>21.420000</td>\n",
       "    </tr>\n",
       "    <tr>\n",
       "      <th>75%</th>\n",
       "      <td>2008.000000</td>\n",
       "      <td>104168.000000</td>\n",
       "      <td>1668.000000</td>\n",
       "      <td>45620.000000</td>\n",
       "      <td>26.060000</td>\n",
       "    </tr>\n",
       "    <tr>\n",
       "      <th>max</th>\n",
       "      <td>2013.000000</td>\n",
       "      <td>501412.000000</td>\n",
       "      <td>3240.000000</td>\n",
       "      <td>367778.000000</td>\n",
       "      <td>30.650000</td>\n",
       "    </tr>\n",
       "  </tbody>\n",
       "</table>\n",
       "</div>"
      ],
      "text/plain": [
       "               Year    hg/ha_yield  average_rain_fall_mm_per_year  \\\n",
       "count  25932.000000   25932.000000                   25932.000000   \n",
       "mean    2001.556455   76978.132925                    1146.836688   \n",
       "std        7.055924   84647.605552                     717.391098   \n",
       "min     1990.000000      50.000000                      51.000000   \n",
       "25%     1995.000000   19996.000000                     593.000000   \n",
       "50%     2001.000000   39530.000000                    1083.000000   \n",
       "75%     2008.000000  104168.000000                    1668.000000   \n",
       "max     2013.000000  501412.000000                    3240.000000   \n",
       "\n",
       "       pesticides_tonnes      avg_temp  \n",
       "count       25932.000000  25932.000000  \n",
       "mean        34782.573241     20.422251  \n",
       "std         57228.568244      6.439402  \n",
       "min             0.040000      1.300000  \n",
       "25%          1597.000000     16.580000  \n",
       "50%         15373.000000     21.420000  \n",
       "75%         45620.000000     26.060000  \n",
       "max        367778.000000     30.650000  "
      ]
     },
     "execution_count": 13,
     "metadata": {},
     "output_type": "execute_result"
    }
   ],
   "source": [
    "# 5. Mathematical Description of the Dataset\n",
    "\n",
    "data.describe()"
   ]
  },
  {
   "cell_type": "code",
   "execution_count": 14,
   "id": "bd1f835a",
   "metadata": {},
   "outputs": [
    {
     "data": {
      "text/html": [
       "<div>\n",
       "<style scoped>\n",
       "    .dataframe tbody tr th:only-of-type {\n",
       "        vertical-align: middle;\n",
       "    }\n",
       "\n",
       "    .dataframe tbody tr th {\n",
       "        vertical-align: top;\n",
       "    }\n",
       "\n",
       "    .dataframe thead th {\n",
       "        text-align: right;\n",
       "    }\n",
       "</style>\n",
       "<table border=\"1\" class=\"dataframe\">\n",
       "  <thead>\n",
       "    <tr style=\"text-align: right;\">\n",
       "      <th></th>\n",
       "      <th>Year</th>\n",
       "      <th>hg/ha_yield</th>\n",
       "      <th>average_rain_fall_mm_per_year</th>\n",
       "      <th>pesticides_tonnes</th>\n",
       "      <th>avg_temp</th>\n",
       "    </tr>\n",
       "  </thead>\n",
       "  <tbody>\n",
       "    <tr>\n",
       "      <th>Year</th>\n",
       "      <td>1.000000</td>\n",
       "      <td>0.091327</td>\n",
       "      <td>-0.006423</td>\n",
       "      <td>0.135127</td>\n",
       "      <td>0.013701</td>\n",
       "    </tr>\n",
       "    <tr>\n",
       "      <th>hg/ha_yield</th>\n",
       "      <td>0.091327</td>\n",
       "      <td>1.000000</td>\n",
       "      <td>-0.004067</td>\n",
       "      <td>0.065523</td>\n",
       "      <td>-0.110400</td>\n",
       "    </tr>\n",
       "    <tr>\n",
       "      <th>average_rain_fall_mm_per_year</th>\n",
       "      <td>-0.006423</td>\n",
       "      <td>-0.004067</td>\n",
       "      <td>1.000000</td>\n",
       "      <td>0.161483</td>\n",
       "      <td>0.333694</td>\n",
       "    </tr>\n",
       "    <tr>\n",
       "      <th>pesticides_tonnes</th>\n",
       "      <td>0.135127</td>\n",
       "      <td>0.065523</td>\n",
       "      <td>0.161483</td>\n",
       "      <td>1.000000</td>\n",
       "      <td>0.045577</td>\n",
       "    </tr>\n",
       "    <tr>\n",
       "      <th>avg_temp</th>\n",
       "      <td>0.013701</td>\n",
       "      <td>-0.110400</td>\n",
       "      <td>0.333694</td>\n",
       "      <td>0.045577</td>\n",
       "      <td>1.000000</td>\n",
       "    </tr>\n",
       "  </tbody>\n",
       "</table>\n",
       "</div>"
      ],
      "text/plain": [
       "                                   Year  hg/ha_yield  \\\n",
       "Year                           1.000000     0.091327   \n",
       "hg/ha_yield                    0.091327     1.000000   \n",
       "average_rain_fall_mm_per_year -0.006423    -0.004067   \n",
       "pesticides_tonnes              0.135127     0.065523   \n",
       "avg_temp                       0.013701    -0.110400   \n",
       "\n",
       "                               average_rain_fall_mm_per_year  \\\n",
       "Year                                               -0.006423   \n",
       "hg/ha_yield                                        -0.004067   \n",
       "average_rain_fall_mm_per_year                       1.000000   \n",
       "pesticides_tonnes                                   0.161483   \n",
       "avg_temp                                            0.333694   \n",
       "\n",
       "                               pesticides_tonnes  avg_temp  \n",
       "Year                                    0.135127  0.013701  \n",
       "hg/ha_yield                             0.065523 -0.110400  \n",
       "average_rain_fall_mm_per_year           0.161483  0.333694  \n",
       "pesticides_tonnes                       1.000000  0.045577  \n",
       "avg_temp                                0.045577  1.000000  "
      ]
     },
     "execution_count": 14,
     "metadata": {},
     "output_type": "execute_result"
    }
   ],
   "source": [
    "# 6. Check for the Correlation among the Features in the Dataset\n",
    "\n",
    "data.corr()"
   ]
  },
  {
   "cell_type": "markdown",
   "id": "0328f19d",
   "metadata": {},
   "source": [
    "# **Transforming 'average_rain_fall_mm_per_year'**\n",
    "- In summary, this code identifies the indices of rows in the DataFrame 'data' where the values in the column 'average_rain_fall_mm_per_year' are not numeric strings. These rows can be considered for removal or further processing, depending on the specific usecase."
   ]
  },
  {
   "cell_type": "code",
   "execution_count": 15,
   "id": "615d1993",
   "metadata": {},
   "outputs": [
    {
     "data": {
      "text/plain": [
       "0        1485.0\n",
       "1        1485.0\n",
       "2        1485.0\n",
       "3        1485.0\n",
       "4        1485.0\n",
       "          ...  \n",
       "28237     657.0\n",
       "28238     657.0\n",
       "28239     657.0\n",
       "28240     657.0\n",
       "28241     657.0\n",
       "Name: average_rain_fall_mm_per_year, Length: 25932, dtype: float64"
      ]
     },
     "execution_count": 15,
     "metadata": {},
     "output_type": "execute_result"
    }
   ],
   "source": [
    "data['average_rain_fall_mm_per_year']"
   ]
  },
  {
   "cell_type": "code",
   "execution_count": 16,
   "id": "5322a5aa",
   "metadata": {},
   "outputs": [],
   "source": [
    "def isStr(obj):\n",
    "    try:\n",
    "        float(obj)\n",
    "        return False\n",
    "    except:\n",
    "        return True"
   ]
  },
  {
   "cell_type": "code",
   "execution_count": 17,
   "id": "52b626aa",
   "metadata": {},
   "outputs": [],
   "source": [
    "to_drop = data[data['average_rain_fall_mm_per_year'].apply(isStr)].index"
   ]
  },
  {
   "cell_type": "code",
   "execution_count": 18,
   "id": "7c611a5c",
   "metadata": {},
   "outputs": [],
   "source": [
    "data = data.drop(to_drop)"
   ]
  },
  {
   "cell_type": "code",
   "execution_count": 19,
   "id": "e0744266",
   "metadata": {},
   "outputs": [
    {
     "data": {
      "text/html": [
       "<div>\n",
       "<style scoped>\n",
       "    .dataframe tbody tr th:only-of-type {\n",
       "        vertical-align: middle;\n",
       "    }\n",
       "\n",
       "    .dataframe tbody tr th {\n",
       "        vertical-align: top;\n",
       "    }\n",
       "\n",
       "    .dataframe thead th {\n",
       "        text-align: right;\n",
       "    }\n",
       "</style>\n",
       "<table border=\"1\" class=\"dataframe\">\n",
       "  <thead>\n",
       "    <tr style=\"text-align: right;\">\n",
       "      <th></th>\n",
       "      <th>Area</th>\n",
       "      <th>Item</th>\n",
       "      <th>Year</th>\n",
       "      <th>hg/ha_yield</th>\n",
       "      <th>average_rain_fall_mm_per_year</th>\n",
       "      <th>pesticides_tonnes</th>\n",
       "      <th>avg_temp</th>\n",
       "    </tr>\n",
       "  </thead>\n",
       "  <tbody>\n",
       "    <tr>\n",
       "      <th>0</th>\n",
       "      <td>Albania</td>\n",
       "      <td>Maize</td>\n",
       "      <td>1990</td>\n",
       "      <td>36613</td>\n",
       "      <td>1485.0</td>\n",
       "      <td>121.00</td>\n",
       "      <td>16.37</td>\n",
       "    </tr>\n",
       "    <tr>\n",
       "      <th>1</th>\n",
       "      <td>Albania</td>\n",
       "      <td>Potatoes</td>\n",
       "      <td>1990</td>\n",
       "      <td>66667</td>\n",
       "      <td>1485.0</td>\n",
       "      <td>121.00</td>\n",
       "      <td>16.37</td>\n",
       "    </tr>\n",
       "    <tr>\n",
       "      <th>2</th>\n",
       "      <td>Albania</td>\n",
       "      <td>Rice, paddy</td>\n",
       "      <td>1990</td>\n",
       "      <td>23333</td>\n",
       "      <td>1485.0</td>\n",
       "      <td>121.00</td>\n",
       "      <td>16.37</td>\n",
       "    </tr>\n",
       "    <tr>\n",
       "      <th>3</th>\n",
       "      <td>Albania</td>\n",
       "      <td>Sorghum</td>\n",
       "      <td>1990</td>\n",
       "      <td>12500</td>\n",
       "      <td>1485.0</td>\n",
       "      <td>121.00</td>\n",
       "      <td>16.37</td>\n",
       "    </tr>\n",
       "    <tr>\n",
       "      <th>4</th>\n",
       "      <td>Albania</td>\n",
       "      <td>Soybeans</td>\n",
       "      <td>1990</td>\n",
       "      <td>7000</td>\n",
       "      <td>1485.0</td>\n",
       "      <td>121.00</td>\n",
       "      <td>16.37</td>\n",
       "    </tr>\n",
       "    <tr>\n",
       "      <th>...</th>\n",
       "      <td>...</td>\n",
       "      <td>...</td>\n",
       "      <td>...</td>\n",
       "      <td>...</td>\n",
       "      <td>...</td>\n",
       "      <td>...</td>\n",
       "      <td>...</td>\n",
       "    </tr>\n",
       "    <tr>\n",
       "      <th>28237</th>\n",
       "      <td>Zimbabwe</td>\n",
       "      <td>Rice, paddy</td>\n",
       "      <td>2013</td>\n",
       "      <td>22581</td>\n",
       "      <td>657.0</td>\n",
       "      <td>2550.07</td>\n",
       "      <td>19.76</td>\n",
       "    </tr>\n",
       "    <tr>\n",
       "      <th>28238</th>\n",
       "      <td>Zimbabwe</td>\n",
       "      <td>Sorghum</td>\n",
       "      <td>2013</td>\n",
       "      <td>3066</td>\n",
       "      <td>657.0</td>\n",
       "      <td>2550.07</td>\n",
       "      <td>19.76</td>\n",
       "    </tr>\n",
       "    <tr>\n",
       "      <th>28239</th>\n",
       "      <td>Zimbabwe</td>\n",
       "      <td>Soybeans</td>\n",
       "      <td>2013</td>\n",
       "      <td>13142</td>\n",
       "      <td>657.0</td>\n",
       "      <td>2550.07</td>\n",
       "      <td>19.76</td>\n",
       "    </tr>\n",
       "    <tr>\n",
       "      <th>28240</th>\n",
       "      <td>Zimbabwe</td>\n",
       "      <td>Sweet potatoes</td>\n",
       "      <td>2013</td>\n",
       "      <td>22222</td>\n",
       "      <td>657.0</td>\n",
       "      <td>2550.07</td>\n",
       "      <td>19.76</td>\n",
       "    </tr>\n",
       "    <tr>\n",
       "      <th>28241</th>\n",
       "      <td>Zimbabwe</td>\n",
       "      <td>Wheat</td>\n",
       "      <td>2013</td>\n",
       "      <td>22888</td>\n",
       "      <td>657.0</td>\n",
       "      <td>2550.07</td>\n",
       "      <td>19.76</td>\n",
       "    </tr>\n",
       "  </tbody>\n",
       "</table>\n",
       "<p>25932 rows × 7 columns</p>\n",
       "</div>"
      ],
      "text/plain": [
       "           Area            Item  Year  hg/ha_yield  \\\n",
       "0       Albania           Maize  1990        36613   \n",
       "1       Albania        Potatoes  1990        66667   \n",
       "2       Albania     Rice, paddy  1990        23333   \n",
       "3       Albania         Sorghum  1990        12500   \n",
       "4       Albania        Soybeans  1990         7000   \n",
       "...         ...             ...   ...          ...   \n",
       "28237  Zimbabwe     Rice, paddy  2013        22581   \n",
       "28238  Zimbabwe         Sorghum  2013         3066   \n",
       "28239  Zimbabwe        Soybeans  2013        13142   \n",
       "28240  Zimbabwe  Sweet potatoes  2013        22222   \n",
       "28241  Zimbabwe           Wheat  2013        22888   \n",
       "\n",
       "       average_rain_fall_mm_per_year  pesticides_tonnes  avg_temp  \n",
       "0                             1485.0             121.00     16.37  \n",
       "1                             1485.0             121.00     16.37  \n",
       "2                             1485.0             121.00     16.37  \n",
       "3                             1485.0             121.00     16.37  \n",
       "4                             1485.0             121.00     16.37  \n",
       "...                              ...                ...       ...  \n",
       "28237                          657.0            2550.07     19.76  \n",
       "28238                          657.0            2550.07     19.76  \n",
       "28239                          657.0            2550.07     19.76  \n",
       "28240                          657.0            2550.07     19.76  \n",
       "28241                          657.0            2550.07     19.76  \n",
       "\n",
       "[25932 rows x 7 columns]"
      ]
     },
     "execution_count": 19,
     "metadata": {},
     "output_type": "execute_result"
    }
   ],
   "source": [
    "data"
   ]
  },
  {
   "cell_type": "code",
   "execution_count": 20,
   "id": "412d2b78",
   "metadata": {},
   "outputs": [
    {
     "name": "stdout",
     "output_type": "stream",
     "text": [
      "<class 'pandas.core.frame.DataFrame'>\n",
      "Int64Index: 25932 entries, 0 to 28241\n",
      "Data columns (total 7 columns):\n",
      " #   Column                         Non-Null Count  Dtype  \n",
      "---  ------                         --------------  -----  \n",
      " 0   Area                           25932 non-null  object \n",
      " 1   Item                           25932 non-null  object \n",
      " 2   Year                           25932 non-null  int64  \n",
      " 3   hg/ha_yield                    25932 non-null  int64  \n",
      " 4   average_rain_fall_mm_per_year  25932 non-null  float64\n",
      " 5   pesticides_tonnes              25932 non-null  float64\n",
      " 6   avg_temp                       25932 non-null  float64\n",
      "dtypes: float64(3), int64(2), object(2)\n",
      "memory usage: 1.6+ MB\n"
     ]
    }
   ],
   "source": [
    "data.info()"
   ]
  },
  {
   "cell_type": "code",
   "execution_count": 21,
   "id": "ffa10554",
   "metadata": {},
   "outputs": [],
   "source": [
    "# If the 'average_rain_fall_mm_per_year' is of int type, convert it into float type.\n",
    "\n",
    "data['average_rain_fall_mm_per_year'] = data['average_rain_fall_mm_per_year'].astype(np.float64)"
   ]
  },
  {
   "cell_type": "markdown",
   "id": "a573496c",
   "metadata": {},
   "source": [
    "### Graph Frequency vs Area"
   ]
  },
  {
   "cell_type": "code",
   "execution_count": 22,
   "id": "3d5726cc",
   "metadata": {},
   "outputs": [
    {
     "data": {
      "text/plain": [
       "<AxesSubplot:xlabel='count', ylabel='Area'>"
      ]
     },
     "execution_count": 22,
     "metadata": {},
     "output_type": "execute_result"
    },
    {
     "data": {
      "image/png": "[encoded data removed]",
      "text/plain": [
       "<Figure size 720x1440 with 1 Axes>"
      ]
     },
     "metadata": {
      "needs_background": "light"
     },
     "output_type": "display_data"
    }
   ],
   "source": [
    "plt.figure(figsize=(10, 20))\n",
    "sns.countplot(y=data['Area'])"
   ]
  },
  {
   "cell_type": "markdown",
   "id": "d26e2ff5",
   "metadata": {},
   "source": [
    "### yield_per_country"
   ]
  },
  {
   "cell_type": "code",
   "execution_count": 23,
   "id": "ca6f4e8b",
   "metadata": {},
   "outputs": [
    {
     "data": {
      "text/html": [
       "<div>\n",
       "<style scoped>\n",
       "    .dataframe tbody tr th:only-of-type {\n",
       "        vertical-align: middle;\n",
       "    }\n",
       "\n",
       "    .dataframe tbody tr th {\n",
       "        vertical-align: top;\n",
       "    }\n",
       "\n",
       "    .dataframe thead th {\n",
       "        text-align: right;\n",
       "    }\n",
       "</style>\n",
       "<table border=\"1\" class=\"dataframe\">\n",
       "  <thead>\n",
       "    <tr style=\"text-align: right;\">\n",
       "      <th></th>\n",
       "      <th>Area</th>\n",
       "      <th>Item</th>\n",
       "      <th>Year</th>\n",
       "      <th>hg/ha_yield</th>\n",
       "      <th>average_rain_fall_mm_per_year</th>\n",
       "      <th>pesticides_tonnes</th>\n",
       "      <th>avg_temp</th>\n",
       "    </tr>\n",
       "  </thead>\n",
       "  <tbody>\n",
       "    <tr>\n",
       "      <th>0</th>\n",
       "      <td>Albania</td>\n",
       "      <td>Maize</td>\n",
       "      <td>1990</td>\n",
       "      <td>36613</td>\n",
       "      <td>1485.0</td>\n",
       "      <td>121.0</td>\n",
       "      <td>16.37</td>\n",
       "    </tr>\n",
       "    <tr>\n",
       "      <th>1</th>\n",
       "      <td>Albania</td>\n",
       "      <td>Potatoes</td>\n",
       "      <td>1990</td>\n",
       "      <td>66667</td>\n",
       "      <td>1485.0</td>\n",
       "      <td>121.0</td>\n",
       "      <td>16.37</td>\n",
       "    </tr>\n",
       "  </tbody>\n",
       "</table>\n",
       "</div>"
      ],
      "text/plain": [
       "      Area      Item  Year  hg/ha_yield  average_rain_fall_mm_per_year  \\\n",
       "0  Albania     Maize  1990        36613                         1485.0   \n",
       "1  Albania  Potatoes  1990        66667                         1485.0   \n",
       "\n",
       "   pesticides_tonnes  avg_temp  \n",
       "0              121.0     16.37  \n",
       "1              121.0     16.37  "
      ]
     },
     "execution_count": 23,
     "metadata": {},
     "output_type": "execute_result"
    }
   ],
   "source": [
    "data.head(2)"
   ]
  },
  {
   "cell_type": "code",
   "execution_count": 24,
   "id": "ef1e7de6",
   "metadata": {},
   "outputs": [
    {
     "data": {
      "text/plain": [
       "25932"
      ]
     },
     "execution_count": 24,
     "metadata": {},
     "output_type": "execute_result"
    }
   ],
   "source": [
    "len(data['Area'])"
   ]
  },
  {
   "cell_type": "code",
   "execution_count": 25,
   "id": "b71b7dc5",
   "metadata": {},
   "outputs": [],
   "source": [
    "country = data['Area'].unique()"
   ]
  },
  {
   "cell_type": "code",
   "execution_count": 26,
   "id": "6e40e1f0",
   "metadata": {},
   "outputs": [],
   "source": [
    "yield_per_country = []\n",
    "\n",
    "for state in country:\n",
    "    yield_per_country.append(data[data['Area']==state]['hg/ha_yield'].sum())"
   ]
  },
  {
   "cell_type": "code",
   "execution_count": 27,
   "id": "9f4c39c0",
   "metadata": {},
   "outputs": [
    {
     "data": {
      "text/plain": [
       "[5711536,\n",
       " 6711464,\n",
       " 5722563,\n",
       " 32864032,\n",
       " 4524100,\n",
       " 109111062,\n",
       " 10852258,\n",
       " 4608380,\n",
       " 4384717,\n",
       " 4443889,\n",
       " 7720159,\n",
       " 4704812,\n",
       " 8442270,\n",
       " 470651,\n",
       " 136340329,\n",
       " 6263075,\n",
       " 6083337,\n",
       " 7031146,\n",
       " 10717883,\n",
       " 34706922,\n",
       " 4255627,\n",
       " 20561214,\n",
       " 26927138,\n",
       " 6083167,\n",
       " 10701651,\n",
       " 25312166,\n",
       " 21315591,\n",
       " 36828848,\n",
       " 16855944,\n",
       " 1452416,\n",
       " 3595638,\n",
       " 6210668,\n",
       " 15790618,\n",
       " 38780463,\n",
       " 9260371,\n",
       " 14571925,\n",
       " 16508723,\n",
       " 7975743,\n",
       " 8361103,\n",
       " 8619194,\n",
       " 10920131,\n",
       " 8824110,\n",
       " 274219558,\n",
       " 68067328,\n",
       " 10984722,\n",
       " 9104030,\n",
       " 32280700,\n",
       " 19698007,\n",
       " 100924145,\n",
       " 9965212,\n",
       " 14391737,\n",
       " 3698588,\n",
       " 6956804,\n",
       " 4258932,\n",
       " 9016288,\n",
       " 4174348,\n",
       " 6103523,\n",
       " 8346715,\n",
       " 7934982,\n",
       " 15106720,\n",
       " 4465841,\n",
       " 12684212,\n",
       " 113698872,\n",
       " 1645100,\n",
       " 22173010,\n",
       " 6964027,\n",
       " 3165475,\n",
       " 4113713,\n",
       " 14086433,\n",
       " 17657728,\n",
       " 12819227,\n",
       " 12316327,\n",
       " 6721305,\n",
       " 49264956,\n",
       " 10729929,\n",
       " 15201910,\n",
       " 6564711,\n",
       " 12154347,\n",
       " 5995626,\n",
       " 6006156,\n",
       " 7741053,\n",
       " 15171886,\n",
       " 10342677,\n",
       " 7197013,\n",
       " 30999849,\n",
       " 46773540,\n",
       " 11217741,\n",
       " 1896346,\n",
       " 14786468,\n",
       " 8620653,\n",
       " 13336346,\n",
       " 6295210,\n",
       " 9511720,\n",
       " 3724246,\n",
       " 52263950,\n",
       " 7494314,\n",
       " 5496901,\n",
       " 44335992,\n",
       " 9539820,\n",
       " 7254311,\n",
       " 7408629]"
      ]
     },
     "execution_count": 27,
     "metadata": {},
     "output_type": "execute_result"
    }
   ],
   "source": [
    "yield_per_country"
   ]
  },
  {
   "cell_type": "markdown",
   "id": "4c78453f",
   "metadata": {},
   "source": [
    "### yield per Country Graph"
   ]
  },
  {
   "cell_type": "code",
   "execution_count": 28,
   "id": "806ccfe7",
   "metadata": {},
   "outputs": [
    {
     "data": {
      "text/plain": [
       "<AxesSubplot:>"
      ]
     },
     "execution_count": 28,
     "metadata": {},
     "output_type": "execute_result"
    },
    {
     "data": {
      "image/png": "[encoded data removed]",
      "text/plain": [
       "<Figure size 720x1440 with 1 Axes>"
      ]
     },
     "metadata": {
      "needs_background": "light"
     },
     "output_type": "display_data"
    }
   ],
   "source": [
    "plt.figure(figsize=(10, 20))\n",
    "sns.barplot(y=country, x=yield_per_country)"
   ]
  },
  {
   "cell_type": "code",
   "execution_count": 29,
   "id": "076f4106",
   "metadata": {},
   "outputs": [
    {
     "data": {
      "text/plain": [
       "<AxesSubplot:xlabel='count', ylabel='Item'>"
      ]
     },
     "execution_count": 29,
     "metadata": {},
     "output_type": "execute_result"
    },
    {
     "data": {
      "image/png": "[encoded data removed]",
      "text/plain": [
       "<Figure size 432x288 with 1 Axes>"
      ]
     },
     "metadata": {
      "needs_background": "light"
     },
     "output_type": "display_data"
    }
   ],
   "source": [
    "sns.countplot(y=data['Item'])"
   ]
  },
  {
   "cell_type": "markdown",
   "id": "bbbe775c",
   "metadata": {},
   "source": [
    "### Yield vs Item"
   ]
  },
  {
   "cell_type": "code",
   "execution_count": 30,
   "id": "2c60fdec",
   "metadata": {},
   "outputs": [],
   "source": [
    "crops = data['Item'].unique()"
   ]
  },
  {
   "cell_type": "code",
   "execution_count": 31,
   "id": "6f495744",
   "metadata": {},
   "outputs": [],
   "source": [
    "yield_per_crop = []\n",
    "for crop in crops:\n",
    "    yield_per_crop.append(data[data['Item']==crop]['hg/ha_yield'].sum())"
   ]
  },
  {
   "cell_type": "code",
   "execution_count": 32,
   "id": "b536a1b5",
   "metadata": {},
   "outputs": [
    {
     "data": {
      "text/plain": [
       "[142020761,\n",
       " 785921609,\n",
       " 127646024,\n",
       " 52906376,\n",
       " 49957039,\n",
       " 106614786,\n",
       " 275132269,\n",
       " 310269345,\n",
       " 58958974,\n",
       " 86769760]"
      ]
     },
     "execution_count": 32,
     "metadata": {},
     "output_type": "execute_result"
    }
   ],
   "source": [
    "yield_per_crop"
   ]
  },
  {
   "cell_type": "code",
   "execution_count": 33,
   "id": "60aa6451",
   "metadata": {},
   "outputs": [
    {
     "data": {
      "text/plain": [
       "<AxesSubplot:>"
      ]
     },
     "execution_count": 33,
     "metadata": {},
     "output_type": "execute_result"
    },
    {
     "data": {
      "image/png": "[encoded data removed]",
      "text/plain": [
       "<Figure size 432x288 with 1 Axes>"
      ]
     },
     "metadata": {
      "needs_background": "light"
     },
     "output_type": "display_data"
    }
   ],
   "source": [
    "sns.barplot(x=yield_per_crop, y=crops)"
   ]
  },
  {
   "cell_type": "markdown",
   "id": "7acc7592",
   "metadata": {},
   "source": [
    "### Train Test Split Rearranging Columns"
   ]
  },
  {
   "cell_type": "code",
   "execution_count": 34,
   "id": "cd7e8cc4",
   "metadata": {},
   "outputs": [],
   "source": [
    "col = ['Year', 'average_rain_fall_mm_per_year', 'pesticides_tonnes', 'avg_temp', 'Area', 'Item', 'hg/ha_yield']\n",
    "data = data[col]"
   ]
  },
  {
   "cell_type": "code",
   "execution_count": 35,
   "id": "7a2064b8",
   "metadata": {},
   "outputs": [],
   "source": [
    "X = data.drop('hg/ha_yield', axis=1)\n",
    "y = data['hg/ha_yield']"
   ]
  },
  {
   "cell_type": "code",
   "execution_count": 36,
   "id": "6f777a23",
   "metadata": {},
   "outputs": [],
   "source": [
    "from sklearn.model_selection import train_test_split"
   ]
  },
  {
   "cell_type": "code",
   "execution_count": 37,
   "id": "5f1f2ab4",
   "metadata": {},
   "outputs": [],
   "source": [
    "X_train, X_test, y_train, y_test = train_test_split(X, y, test_size=0.2, random_state=42)"
   ]
  },
  {
   "cell_type": "code",
   "execution_count": 38,
   "id": "2892ee75",
   "metadata": {},
   "outputs": [
    {
     "data": {
      "text/plain": [
       "(20745, 6)"
      ]
     },
     "execution_count": 38,
     "metadata": {},
     "output_type": "execute_result"
    }
   ],
   "source": [
    "X_train.shape"
   ]
  },
  {
   "cell_type": "code",
   "execution_count": 39,
   "id": "3e9afe00",
   "metadata": {},
   "outputs": [
    {
     "data": {
      "text/plain": [
       "(5187, 6)"
      ]
     },
     "execution_count": 39,
     "metadata": {},
     "output_type": "execute_result"
    }
   ],
   "source": [
    "X_test.shape"
   ]
  },
  {
   "cell_type": "code",
   "execution_count": 40,
   "id": "1e0cb321",
   "metadata": {},
   "outputs": [
    {
     "data": {
      "text/html": [
       "<div>\n",
       "<style scoped>\n",
       "    .dataframe tbody tr th:only-of-type {\n",
       "        vertical-align: middle;\n",
       "    }\n",
       "\n",
       "    .dataframe tbody tr th {\n",
       "        vertical-align: top;\n",
       "    }\n",
       "\n",
       "    .dataframe thead th {\n",
       "        text-align: right;\n",
       "    }\n",
       "</style>\n",
       "<table border=\"1\" class=\"dataframe\">\n",
       "  <thead>\n",
       "    <tr style=\"text-align: right;\">\n",
       "      <th></th>\n",
       "      <th>Year</th>\n",
       "      <th>average_rain_fall_mm_per_year</th>\n",
       "      <th>pesticides_tonnes</th>\n",
       "      <th>avg_temp</th>\n",
       "      <th>Area</th>\n",
       "      <th>Item</th>\n",
       "    </tr>\n",
       "  </thead>\n",
       "  <tbody>\n",
       "    <tr>\n",
       "      <th>24234</th>\n",
       "      <td>2000</td>\n",
       "      <td>59.0</td>\n",
       "      <td>3024.11</td>\n",
       "      <td>26.55</td>\n",
       "      <td>Saudi Arabia</td>\n",
       "      <td>Sorghum</td>\n",
       "    </tr>\n",
       "    <tr>\n",
       "      <th>9468</th>\n",
       "      <td>2012</td>\n",
       "      <td>652.0</td>\n",
       "      <td>8002.20</td>\n",
       "      <td>18.82</td>\n",
       "      <td>Greece</td>\n",
       "      <td>Sweet potatoes</td>\n",
       "    </tr>\n",
       "    <tr>\n",
       "      <th>6793</th>\n",
       "      <td>2006</td>\n",
       "      <td>3240.0</td>\n",
       "      <td>98328.63</td>\n",
       "      <td>27.51</td>\n",
       "      <td>Colombia</td>\n",
       "      <td>Maize</td>\n",
       "    </tr>\n",
       "    <tr>\n",
       "      <th>28212</th>\n",
       "      <td>2010</td>\n",
       "      <td>657.0</td>\n",
       "      <td>3305.17</td>\n",
       "      <td>21.17</td>\n",
       "      <td>Zimbabwe</td>\n",
       "      <td>Potatoes</td>\n",
       "    </tr>\n",
       "    <tr>\n",
       "      <th>7358</th>\n",
       "      <td>2007</td>\n",
       "      <td>1410.0</td>\n",
       "      <td>5689.80</td>\n",
       "      <td>27.08</td>\n",
       "      <td>Dominican Republic</td>\n",
       "      <td>Sweet potatoes</td>\n",
       "    </tr>\n",
       "    <tr>\n",
       "      <th>...</th>\n",
       "      <td>...</td>\n",
       "      <td>...</td>\n",
       "      <td>...</td>\n",
       "      <td>...</td>\n",
       "      <td>...</td>\n",
       "      <td>...</td>\n",
       "    </tr>\n",
       "    <tr>\n",
       "      <th>23678</th>\n",
       "      <td>2004</td>\n",
       "      <td>854.0</td>\n",
       "      <td>16942.00</td>\n",
       "      <td>16.31</td>\n",
       "      <td>Portugal</td>\n",
       "      <td>Sweet potatoes</td>\n",
       "    </tr>\n",
       "    <tr>\n",
       "      <th>5960</th>\n",
       "      <td>2006</td>\n",
       "      <td>537.0</td>\n",
       "      <td>36572.75</td>\n",
       "      <td>7.85</td>\n",
       "      <td>Canada</td>\n",
       "      <td>Wheat</td>\n",
       "    </tr>\n",
       "    <tr>\n",
       "      <th>860</th>\n",
       "      <td>1991</td>\n",
       "      <td>534.0</td>\n",
       "      <td>17866.00</td>\n",
       "      <td>18.73</td>\n",
       "      <td>Australia</td>\n",
       "      <td>Potatoes</td>\n",
       "    </tr>\n",
       "    <tr>\n",
       "      <th>17223</th>\n",
       "      <td>1998</td>\n",
       "      <td>250.0</td>\n",
       "      <td>6416.14</td>\n",
       "      <td>6.94</td>\n",
       "      <td>Kazakhstan</td>\n",
       "      <td>Potatoes</td>\n",
       "    </tr>\n",
       "    <tr>\n",
       "      <th>25918</th>\n",
       "      <td>1994</td>\n",
       "      <td>2331.0</td>\n",
       "      <td>178.50</td>\n",
       "      <td>26.82</td>\n",
       "      <td>Suriname</td>\n",
       "      <td>Cassava</td>\n",
       "    </tr>\n",
       "  </tbody>\n",
       "</table>\n",
       "<p>20745 rows × 6 columns</p>\n",
       "</div>"
      ],
      "text/plain": [
       "       Year  average_rain_fall_mm_per_year  pesticides_tonnes  avg_temp  \\\n",
       "24234  2000                           59.0            3024.11     26.55   \n",
       "9468   2012                          652.0            8002.20     18.82   \n",
       "6793   2006                         3240.0           98328.63     27.51   \n",
       "28212  2010                          657.0            3305.17     21.17   \n",
       "7358   2007                         1410.0            5689.80     27.08   \n",
       "...     ...                            ...                ...       ...   \n",
       "23678  2004                          854.0           16942.00     16.31   \n",
       "5960   2006                          537.0           36572.75      7.85   \n",
       "860    1991                          534.0           17866.00     18.73   \n",
       "17223  1998                          250.0            6416.14      6.94   \n",
       "25918  1994                         2331.0             178.50     26.82   \n",
       "\n",
       "                     Area            Item  \n",
       "24234        Saudi Arabia         Sorghum  \n",
       "9468               Greece  Sweet potatoes  \n",
       "6793             Colombia           Maize  \n",
       "28212            Zimbabwe        Potatoes  \n",
       "7358   Dominican Republic  Sweet potatoes  \n",
       "...                   ...             ...  \n",
       "23678            Portugal  Sweet potatoes  \n",
       "5960               Canada           Wheat  \n",
       "860             Australia        Potatoes  \n",
       "17223          Kazakhstan        Potatoes  \n",
       "25918            Suriname         Cassava  \n",
       "\n",
       "[20745 rows x 6 columns]"
      ]
     },
     "execution_count": 40,
     "metadata": {},
     "output_type": "execute_result"
    }
   ],
   "source": [
    "X_train"
   ]
  },
  {
   "cell_type": "markdown",
   "id": "a9fdf90f",
   "metadata": {},
   "source": [
    "### Converting Categorical to Numerical and Scaling the Values"
   ]
  },
  {
   "cell_type": "code",
   "execution_count": 41,
   "id": "254c4f04",
   "metadata": {},
   "outputs": [],
   "source": [
    "from sklearn.preprocessing import OneHotEncoder, StandardScaler\n",
    "from sklearn.compose import ColumnTransformer"
   ]
  },
  {
   "cell_type": "code",
   "execution_count": 42,
   "id": "5e40fdfe",
   "metadata": {},
   "outputs": [],
   "source": [
    "ohe = OneHotEncoder()\n",
    "scaler = StandardScaler()"
   ]
  },
  {
   "cell_type": "code",
   "execution_count": 43,
   "id": "d51172c7",
   "metadata": {},
   "outputs": [
    {
     "data": {
      "text/html": [
       "<div>\n",
       "<style scoped>\n",
       "    .dataframe tbody tr th:only-of-type {\n",
       "        vertical-align: middle;\n",
       "    }\n",
       "\n",
       "    .dataframe tbody tr th {\n",
       "        vertical-align: top;\n",
       "    }\n",
       "\n",
       "    .dataframe thead th {\n",
       "        text-align: right;\n",
       "    }\n",
       "</style>\n",
       "<table border=\"1\" class=\"dataframe\">\n",
       "  <thead>\n",
       "    <tr style=\"text-align: right;\">\n",
       "      <th></th>\n",
       "      <th>Year</th>\n",
       "      <th>average_rain_fall_mm_per_year</th>\n",
       "      <th>pesticides_tonnes</th>\n",
       "      <th>avg_temp</th>\n",
       "      <th>Area</th>\n",
       "      <th>Item</th>\n",
       "    </tr>\n",
       "  </thead>\n",
       "  <tbody>\n",
       "    <tr>\n",
       "      <th>24234</th>\n",
       "      <td>2000</td>\n",
       "      <td>59.0</td>\n",
       "      <td>3024.11</td>\n",
       "      <td>26.55</td>\n",
       "      <td>Saudi Arabia</td>\n",
       "      <td>Sorghum</td>\n",
       "    </tr>\n",
       "  </tbody>\n",
       "</table>\n",
       "</div>"
      ],
      "text/plain": [
       "       Year  average_rain_fall_mm_per_year  pesticides_tonnes  avg_temp  \\\n",
       "24234  2000                           59.0            3024.11     26.55   \n",
       "\n",
       "               Area     Item  \n",
       "24234  Saudi Arabia  Sorghum  "
      ]
     },
     "execution_count": 43,
     "metadata": {},
     "output_type": "execute_result"
    }
   ],
   "source": [
    "X_train.head(1)"
   ]
  },
  {
   "cell_type": "code",
   "execution_count": 44,
   "id": "35feb481",
   "metadata": {},
   "outputs": [],
   "source": [
    "preprocessor = ColumnTransformer(\n",
    "    transformers=[\n",
    "        ('onehotencoder', ohe, [4, 5]),\n",
    "        ('standardization', scaler, [0, 1, 2, 3])\n",
    "    ],\n",
    "    remainder = 'passthrough'\n",
    ")"
   ]
  },
  {
   "cell_type": "code",
   "execution_count": 45,
   "id": "30d60243",
   "metadata": {},
   "outputs": [
    {
     "data": {
      "text/plain": [
       "ColumnTransformer(remainder='passthrough',\n",
       "                  transformers=[('onehotencoder', OneHotEncoder(), [4, 5]),\n",
       "                                ('standardization', StandardScaler(),\n",
       "                                 [0, 1, 2, 3])])"
      ]
     },
     "execution_count": 45,
     "metadata": {},
     "output_type": "execute_result"
    }
   ],
   "source": [
    "preprocessor"
   ]
  },
  {
   "cell_type": "code",
   "execution_count": 46,
   "id": "4fbcef1c",
   "metadata": {},
   "outputs": [],
   "source": [
    "X_train_dummy = preprocessor.fit_transform(X_train)\n",
    "X_test_dummy = preprocessor.transform(X_test)"
   ]
  },
  {
   "cell_type": "code",
   "execution_count": 47,
   "id": "2b69d2ca",
   "metadata": {},
   "outputs": [
    {
     "data": {
      "text/plain": [
       "<20745x115 sparse matrix of type '<class 'numpy.float64'>'\n",
       "\twith 124470 stored elements in Compressed Sparse Row format>"
      ]
     },
     "execution_count": 47,
     "metadata": {},
     "output_type": "execute_result"
    }
   ],
   "source": [
    "X_train_dummy"
   ]
  },
  {
   "cell_type": "markdown",
   "id": "8268228b",
   "metadata": {},
   "source": [
    "### Training Models"
   ]
  },
  {
   "cell_type": "code",
   "execution_count": 48,
   "id": "e3182fe5",
   "metadata": {},
   "outputs": [],
   "source": [
    "from sklearn.linear_model import LinearRegression, Lasso, Ridge\n",
    "from sklearn.neighbors import KNeighborsRegressor\n",
    "from sklearn.tree import DecisionTreeRegressor\n",
    "from sklearn.metrics import mean_squared_error, r2_score"
   ]
  },
  {
   "cell_type": "code",
   "execution_count": 49,
   "id": "4d3e463a",
   "metadata": {},
   "outputs": [
    {
     "name": "stdout",
     "output_type": "stream",
     "text": [
      "lr MSE: 1821706662.933675 score 0.7486570020874403\n",
      "lss MSE: 1822127464.7722914 score 0.7485989435658369\n",
      "rg MSE: 1821852501.714984 score 0.7486368805402934\n",
      "knr MSE: 117396514.9674571 score 0.9838026655900299\n",
      "dtr MSE: 172110737.18719876 score 0.9762536803878692\n"
     ]
    }
   ],
   "source": [
    "models = {\n",
    "    'lr': LinearRegression(),\n",
    "    'lss': Lasso(),\n",
    "    'rg': Ridge(),\n",
    "    'knr': KNeighborsRegressor(),\n",
    "    'dtr': DecisionTreeRegressor()\n",
    "}\n",
    "\n",
    "for name, mod in models.items():\n",
    "    mod.fit(X_train_dummy, y_train)\n",
    "    y_pred = mod.predict(X_test_dummy)\n",
    "\n",
    "    print(f\"{name} MSE: {mean_squared_error(y_test, y_pred)} score {r2_score(y_test, y_pred)}\")"
   ]
  },
  {
   "cell_type": "markdown",
   "id": "f7b4589c",
   "metadata": {},
   "source": [
    "### Model Selection (Decision Tree Regressor)"
   ]
  },
  {
   "cell_type": "code",
   "execution_count": 50,
   "id": "4288de1e",
   "metadata": {},
   "outputs": [
    {
     "data": {
      "text/plain": [
       "array([117628.,  15838.,  89499., ...,  52692.,   9621., 132600.])"
      ]
     },
     "execution_count": 50,
     "metadata": {},
     "output_type": "execute_result"
    }
   ],
   "source": [
    "dtr = DecisionTreeRegressor()\n",
    "dtr.fit(X_train_dummy, y_train)\n",
    "dtr.predict(X_test_dummy)"
   ]
  },
  {
   "cell_type": "markdown",
   "id": "34ca07e8",
   "metadata": {},
   "source": [
    "### Predictive System"
   ]
  },
  {
   "cell_type": "code",
   "execution_count": 51,
   "id": "e71d26ae",
   "metadata": {},
   "outputs": [],
   "source": [
    "def prediction(Year, average_rain_fall_mm_per_year, pesticides_tonnes, avg_temp, Area, Item):\n",
    "    features = np.array([[Year, average_rain_fall_mm_per_year, pesticides_tonnes, avg_temp, Area, Item]])\n",
    "\n",
    "    transformed_features = preprocessor.transform(features)\n",
    "    predicted_value = dtr.predict(transformed_features).reshape(1, -1)\n",
    "    return predicted_value[0]"
   ]
  },
  {
   "cell_type": "code",
   "execution_count": 52,
   "id": "e8844c14",
   "metadata": {},
   "outputs": [],
   "source": [
    "Year = 2000\n",
    "average_rain_fall_mm_per_year = 59.0\n",
    "pesticides_tonnes = 3024.11\n",
    "avg_temp = 26.55\n",
    "Area = 'Saudi Arabia'\n",
    "Item = 'Sorghum'\n",
    "\n",
    "result = prediction(Year, average_rain_fall_mm_per_year, pesticides_tonnes, avg_temp, Area, Item)"
   ]
  },
  {
   "cell_type": "code",
   "execution_count": 53,
   "id": "8e58fbeb",
   "metadata": {},
   "outputs": [
    {
     "data": {
      "text/plain": [
       "array([13384.])"
      ]
     },
     "execution_count": 53,
     "metadata": {},
     "output_type": "execute_result"
    }
   ],
   "source": [
    "result"
   ]
  },
  {
   "cell_type": "markdown",
   "id": "ae65fc32",
   "metadata": {},
   "source": [
    "### Pickle Files"
   ]
  },
  {
   "cell_type": "code",
   "execution_count": 54,
   "id": "76843c36",
   "metadata": {},
   "outputs": [],
   "source": [
    "import pickle\n",
    "\n",
    "# Save the decision tree regressor model\n",
    "pickle.dump(dtr, open('dtr.pkl', 'wb'))\n",
    "\n",
    "# Save the preprocessor\n",
    "with open('preprocessor.pkl', 'wb') as file:\n",
    "    pickle.dump(preprocessor, file)"
   ]
  },
  {
   "cell_type": "code",
   "execution_count": 55,
   "id": "603e0bc8",
   "metadata": {},
   "outputs": [
    {
     "name": "stdout",
     "output_type": "stream",
     "text": [
      "1.0.2\n"
     ]
    }
   ],
   "source": [
    "import sklearn\n",
    "print(sklearn.__version__)"
   ]
  },
  {
   "cell_type": "code",
   "execution_count": null,
   "id": "baef9fde",
   "metadata": {},
   "outputs": [],
   "source": []
  }
 ],
 "metadata": {
  "kernelspec": {
   "display_name": "Python 3 (ipykernel)",
   "language": "python",
   "name": "python3"
  },
  "language_info": {
   "codemirror_mode": {
    "name": "ipython",
    "version": 3
   },
   "file_extension": ".py",
   "mimetype": "text/x-python",
   "name": "python",
   "nbconvert_exporter": "python",
   "pygments_lexer": "ipython3",
   "version": "3.9.12"
  }
 },
 "nbformat": 4,
 "nbformat_minor": 5
}
